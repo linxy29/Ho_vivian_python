{
 "cells": [
  {
   "cell_type": "code",
   "execution_count": 11,
   "metadata": {},
   "outputs": [
    {
     "data": {
      "text/plain": [
       "['/home/linxy29/Code/Ho_vivian_python',\n",
       " '/opt/anaconda3/lib/python38.zip',\n",
       " '/opt/anaconda3/lib/python3.8',\n",
       " '/opt/anaconda3/lib/python3.8/lib-dynload',\n",
       " '',\n",
       " '/home/linxy29/.local/lib/python3.8/site-packages',\n",
       " '/opt/anaconda3/lib/python3.8/site-packages',\n",
       " '/opt/anaconda3/lib/python3.8/site-packages/locket-0.2.1-py3.8.egg',\n",
       " '/opt/anaconda3/lib/python3.8/site-packages/IPython/extensions',\n",
       " '/home/linxy29/.ipython',\n",
       " '/home/linxy29/.conda/envs/vivian_data/lib/python3.7',\n",
       " '/home/linxy29/.conda/envs/vivian_data/lib/python3.7/lib-dynload',\n",
       " '/home/linxy29/.conda/envs/vivian_data/lib/python3.7/site-packages']"
      ]
     },
     "execution_count": 11,
     "metadata": {},
     "output_type": "execute_result"
    }
   ],
   "source": [
    "import sys\n",
    "sys.path.append('/home/linxy29/.conda/envs/vivian_data/lib/python3.7/site-packages')\n",
    "sys.path"
   ]
  },
  {
   "cell_type": "code",
   "execution_count": 13,
   "metadata": {},
   "outputs": [
    {
     "ename": "ImportError",
     "evalue": "Failed to load PyTorch C extensions:\n    It appears that PyTorch has loaded the `torch/_C` folder\n    of the PyTorch repository rather than the C extensions which\n    are expected in the `torch._C` namespace. This can occur when\n    using the `install` workflow. e.g.\n        $ python setup.py install && python -c \"import torch\"\n\n    This error can generally be solved using the `develop` workflow\n        $ python setup.py develop && python -c \"import torch\"  # This should succeed\n    or by running Python from a different directory.",
     "output_type": "error",
     "traceback": [
      "\u001b[0;31m---------------------------------------------------------------------------\u001b[0m",
      "\u001b[0;31mImportError\u001b[0m                               Traceback (most recent call last)",
      "\u001b[0;32m<ipython-input-13-2af467ad9a42>\u001b[0m in \u001b[0;36m<module>\u001b[0;34m\u001b[0m\n\u001b[1;32m      2\u001b[0m \u001b[0;32mimport\u001b[0m \u001b[0mnumpy\u001b[0m \u001b[0;32mas\u001b[0m \u001b[0mnp\u001b[0m\u001b[0;34m\u001b[0m\u001b[0;34m\u001b[0m\u001b[0m\n\u001b[1;32m      3\u001b[0m \u001b[0;32mimport\u001b[0m \u001b[0mscvelo\u001b[0m \u001b[0;32mas\u001b[0m \u001b[0mscv\u001b[0m\u001b[0;34m\u001b[0m\u001b[0;34m\u001b[0m\u001b[0m\n\u001b[0;32m----> 4\u001b[0;31m \u001b[0;32mimport\u001b[0m \u001b[0mtorch\u001b[0m\u001b[0;34m\u001b[0m\u001b[0;34m\u001b[0m\u001b[0m\n\u001b[0m\u001b[1;32m      5\u001b[0m \u001b[0;34m\u001b[0m\u001b[0m\n\u001b[1;32m      6\u001b[0m \u001b[0;32mfrom\u001b[0m \u001b[0mveloproj\u001b[0m \u001b[0;32mimport\u001b[0m \u001b[0;34m*\u001b[0m\u001b[0;34m\u001b[0m\u001b[0;34m\u001b[0m\u001b[0m\n",
      "\u001b[0;32m~/.conda/envs/vivian_data/lib/python3.7/site-packages/torch/__init__.py\u001b[0m in \u001b[0;36m<module>\u001b[0;34m\u001b[0m\n\u001b[1;32m    214\u001b[0m     \u001b[0;31m# The __file__ check only works for Python 3.7 and above.\u001b[0m\u001b[0;34m\u001b[0m\u001b[0;34m\u001b[0m\u001b[0;34m\u001b[0m\u001b[0m\n\u001b[1;32m    215\u001b[0m     \u001b[0;32mif\u001b[0m \u001b[0msys\u001b[0m\u001b[0;34m.\u001b[0m\u001b[0mversion_info\u001b[0m \u001b[0;34m>=\u001b[0m \u001b[0;34m(\u001b[0m\u001b[0;36m3\u001b[0m\u001b[0;34m,\u001b[0m \u001b[0;36m7\u001b[0m\u001b[0;34m)\u001b[0m \u001b[0;32mand\u001b[0m \u001b[0m_C_for_compiled_check\u001b[0m\u001b[0;34m.\u001b[0m\u001b[0m__file__\u001b[0m \u001b[0;32mis\u001b[0m \u001b[0;32mNone\u001b[0m\u001b[0;34m:\u001b[0m\u001b[0;34m\u001b[0m\u001b[0;34m\u001b[0m\u001b[0m\n\u001b[0;32m--> 216\u001b[0;31m         raise ImportError(textwrap.dedent('''\n\u001b[0m\u001b[1;32m    217\u001b[0m             \u001b[0mFailed\u001b[0m \u001b[0mto\u001b[0m \u001b[0mload\u001b[0m \u001b[0mPyTorch\u001b[0m \u001b[0mC\u001b[0m \u001b[0mextensions\u001b[0m\u001b[0;34m:\u001b[0m\u001b[0;34m\u001b[0m\u001b[0;34m\u001b[0m\u001b[0m\n\u001b[1;32m    218\u001b[0m                 \u001b[0mIt\u001b[0m \u001b[0mappears\u001b[0m \u001b[0mthat\u001b[0m \u001b[0mPyTorch\u001b[0m \u001b[0mhas\u001b[0m \u001b[0mloaded\u001b[0m \u001b[0mthe\u001b[0m\u001b[0;31m \u001b[0m\u001b[0;31m`\u001b[0m\u001b[0mtorch\u001b[0m\u001b[0;34m/\u001b[0m\u001b[0m_C\u001b[0m\u001b[0;31m`\u001b[0m \u001b[0mfolder\u001b[0m\u001b[0;34m\u001b[0m\u001b[0;34m\u001b[0m\u001b[0m\n",
      "\u001b[0;31mImportError\u001b[0m: Failed to load PyTorch C extensions:\n    It appears that PyTorch has loaded the `torch/_C` folder\n    of the PyTorch repository rather than the C extensions which\n    are expected in the `torch._C` namespace. This can occur when\n    using the `install` workflow. e.g.\n        $ python setup.py install && python -c \"import torch\"\n\n    This error can generally be solved using the `develop` workflow\n        $ python setup.py develop && python -c \"import torch\"  # This should succeed\n    or by running Python from a different directory."
     ]
    }
   ],
   "source": [
    "import pickle\n",
    "import numpy as np\n",
    "import scvelo as scv\n",
    "import torch\n",
    "\n",
    "from veloproj import *\n",
    "\n",
    "scv.settings.verbosity = 1"
   ]
  },
  {
   "cell_type": "code",
   "execution_count": null,
   "metadata": {},
   "outputs": [],
   "source": [
    "parser = get_parser()\n",
    "args = parser.parse_args(args=['--lr', '1e-5', \n",
    "                               '--n-epochs', '20000', \n",
    "                               '--g-rep-dim', '100',\n",
    "                               '--k-dim', '100',\n",
    "                               '--model-name', 'dentategyrus_model.cpt',\n",
    "                               '--exp-name', 'CohAE_dentategyrus',\n",
    "                               '--device', 'cuda:2',\n",
    "                               '--gumbsoft_tau', '5',\n",
    "                               '--nb_g_src', \"X\",\n",
    "                               '--ld_nb_g_src', \"X\",\n",
    "                               '--n_raw_gene', '2000',\n",
    "                               '--n_conn_nb', '30',\n",
    "                               '--n_nb_newadata', '30',\n",
    "                               '--aux_weight', '1',\n",
    "                               '--fit_offset_train', 'false',\n",
    "                               '--fit_offset_pred', 'true',\n",
    "                               '--use_offset_pred', 'false',\n",
    "                               '--gnn_layer', 'GAT',\n",
    "                               '--vis-key', 'X_umap',\n",
    "                               '--vis_type_col', 'clusters',\n",
    "                               '--scv_n_jobs', '10',\n",
    "                              ])\n",
    "args                              "
   ]
  }
 ],
 "metadata": {
  "kernelspec": {
   "display_name": "Python 3",
   "language": "python",
   "name": "python3"
  },
  "language_info": {
   "codemirror_mode": {
    "name": "ipython",
    "version": 3
   },
   "file_extension": ".py",
   "mimetype": "text/x-python",
   "name": "python",
   "nbconvert_exporter": "python",
   "pygments_lexer": "ipython3",
   "version": "3.8.8"
  }
 },
 "nbformat": 4,
 "nbformat_minor": 2
}
