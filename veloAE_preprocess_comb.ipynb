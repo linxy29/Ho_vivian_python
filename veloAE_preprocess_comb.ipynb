{
 "cells": [
  {
   "cell_type": "code",
   "execution_count": 1,
   "metadata": {},
   "outputs": [],
   "source": [
    "import scvelo as scv\n",
    "import pandas as pd\n",
    "import numpy as np\n",
    "import scanpy as sc\n",
    "import glob"
   ]
  },
  {
   "cell_type": "code",
   "execution_count": 2,
   "metadata": {},
   "outputs": [],
   "source": [
    "sampleL = [\"ncc\", \"mes\"]\n",
    "sample = 'ncc_mes_eu'\n",
    "results_file = '/home/linxy29/holab/linxy/iPSC/veloAE/' + sample + '_seurate.h5ad'  # the file that will store the analysis results"
   ]
  },
  {
   "cell_type": "code",
   "execution_count": 3,
   "metadata": {},
   "outputs": [
    {
     "name": "stdout",
     "output_type": "stream",
     "text": [
      "scanpy==1.9.1 anndata==0.8.0 umap==0.5.3 numpy==1.21.6 scipy==1.7.3 pandas==1.3.5 scikit-learn==1.0.2 statsmodels==0.13.2 pynndescent==0.5.7\n"
     ]
    }
   ],
   "source": [
    "sc.settings.verbosity = 3             # verbosity: errors (0), warnings (1), info (2), hints (3)\n",
    "sc.logging.print_header()\n",
    "sc.settings.set_figure_params(dpi=80, facecolor='white')"
   ]
  },
  {
   "cell_type": "code",
   "execution_count": 4,
   "metadata": {},
   "outputs": [
    {
     "name": "stdout",
     "output_type": "stream",
     "text": [
      "                      x\n",
      "0  AAACCCATCAGCAATC-1_1\n",
      "1  AAACGAACACGGTGCT-1_1\n",
      "2  AAACGAACATTGTCGA-1_1\n",
      "3  AAACGCTCAAGAGGTC-1_1\n",
      "4  AAACGCTGTGCCCGTA-1_1\n",
      "22522\n",
      "                 Unnamed: 0    UMAP_1    UMAP_2\n",
      "0      AAACCCATCAGCAATC-1_1  0.761892  5.784208\n",
      "1      AAACGAACACGGTGCT-1_1 -2.664008  2.284072\n",
      "2      AAACGAACATTGTCGA-1_1 -0.469658  8.824039\n",
      "3      AAACGCTCAAGAGGTC-1_1 -1.168397  8.088729\n",
      "4      AAACGCTGTGCCCGTA-1_1  3.131986  2.131230\n",
      "...                     ...       ...       ...\n",
      "22517  TTTGTTGGTAGACGTG-1_3 -0.302517 -5.987935\n",
      "22518  TTTGTTGGTGAGCGAT-1_3  2.782733 -0.404670\n",
      "22519  TTTGTTGGTTCTCTAT-1_3  3.069862 -1.504854\n",
      "22520  TTTGTTGTCACCTCAC-1_3  0.649504 -9.676390\n",
      "22521  TTTGTTGTCGGATAAA-1_3  3.593241 -8.271546\n",
      "\n",
      "[22522 rows x 3 columns]\n"
     ]
    }
   ],
   "source": [
    "# get meta-data information\n",
    "path = \"/home/linxy29/holab/linxy/iPSC/veloAE/\"\n",
    "cellID_obs = pd.read_csv(path + sample + '_cellID.csv')\n",
    "print(cellID_obs.head())\n",
    "print(len(cellID_obs))\n",
    "umap_cord = pd.read_csv(path + sample + '_embeddings.csv')\n",
    "print(umap_cord)\n",
    "cell_clusters = pd.read_csv(path + sample + '_clusters.csv')"
   ]
  },
  {
   "cell_type": "code",
   "execution_count": 5,
   "metadata": {},
   "outputs": [
    {
     "name": "stdout",
     "output_type": "stream",
     "text": [
      "['ThermoFiPSC_D7NOTO_drug_sample_alignments_PUHUH.loom', '190PBMCiPSC_D7NOTO_sample_alignments_OV87U.loom', 'ThermoFiPSC_D7NOTO_sample_alignments_BT23H.loom', '190PBMCiPSC_D7NT_sample_alignments_LNJIY.loom', 'ThermoFiPSC_D7NT_sample_alignments_Z46BN.loom', '190PBMCiPSC_D7NOTO_drug_sample_alignments_P1WVY.loom']\n"
     ]
    }
   ],
   "source": [
    "filenameL = []\n",
    "os.chdir(\"/home/linxy29/holab/linxy/iPSC/day7_velocyto/\")\n",
    "for file in glob.glob(\"*.loom\"):\n",
    "    filenameL.append(file)\n",
    "print(filenameL)"
   ]
  },
  {
   "cell_type": "code",
   "execution_count": 6,
   "metadata": {},
   "outputs": [
    {
     "name": "stdout",
     "output_type": "stream",
     "text": [
      "... reading from cache file cache/home-linxy29-holab-linxy-iPSC-day7_velocyto-ThermoFiPSC_D7NOTO_drug_sample_alignments_PUHUH.h5ad\n"
     ]
    }
   ],
   "source": [
    "eudata =  scv.read(\"/home/linxy29/holab/linxy/iPSC/day7_velocyto/\" + filenameL[0], cache=True)\n",
    "eudata.var_names_make_unique()"
   ]
  },
  {
   "cell_type": "code",
   "execution_count": 7,
   "metadata": {},
   "outputs": [
    {
     "name": "stdout",
     "output_type": "stream",
     "text": [
      "... reading from cache file cache/home-linxy29-holab-linxy-iPSC-day7_velocyto-190PBMCiPSC_D7NOTO_sample_alignments_OV87U.h5ad\n",
      "... reading from cache file cache/home-linxy29-holab-linxy-iPSC-day7_velocyto-ThermoFiPSC_D7NOTO_sample_alignments_BT23H.h5ad\n",
      "... reading from cache file cache/home-linxy29-holab-linxy-iPSC-day7_velocyto-190PBMCiPSC_D7NT_sample_alignments_LNJIY.h5ad\n",
      "... reading from cache file cache/home-linxy29-holab-linxy-iPSC-day7_velocyto-ThermoFiPSC_D7NT_sample_alignments_Z46BN.h5ad\n",
      "... reading from cache file cache/home-linxy29-holab-linxy-iPSC-day7_velocyto-190PBMCiPSC_D7NOTO_drug_sample_alignments_P1WVY.h5ad\n",
      "AnnData object with n_obs × n_vars = 10656 × 61544\n",
      "    obs: 'batch'\n",
      "    var: 'Accession', 'Chromosome', 'End', 'Start', 'Strand'\n",
      "    layers: 'ambiguous', 'matrix', 'spliced', 'unspliced'\n",
      "Index(['AAGCGAGTCCCGAATA_3', 'AAATGGATCTGCGGGT_3', 'AACGTCACATGATGCT_3',\n",
      "       'AAGAACAAGTCCTGCG_3', 'AATTTCCCAGTCGCTG_3', 'AACCTTTAGCAGTACG_3',\n",
      "       'AAGAACAGTCGGATTT_3', 'ACATGCACATACAGCT_3', 'AACCAACAGGATTCAA_3',\n",
      "       'AACCATGCATGTTCGA_3',\n",
      "       ...\n",
      "       'TTGGATGTCAACGTGT_3', 'TTAGGGTGTCAGTCGC_3', 'TTTCGATCAAGACGGT_3',\n",
      "       'TTTGGTTAGTGAGCCA_3', 'TTTATGCTCAGGACGA_3', 'TTTGATCAGTGGCCTC_3',\n",
      "       'TTTGTTGGTAGACGTG_3', 'TTTCGATTCCTGGGAC_3', 'TTTCGATAGTAGGATT_3',\n",
      "       'TTTGGAGAGGTAACTA_3'],\n",
      "      dtype='object', length=10656)\n"
     ]
    }
   ],
   "source": [
    "for sample in filenameL[1:]:\n",
    "    tempdata = scv.read(\"/home/linxy29/holab/linxy/iPSC/day7_velocyto/\" + sample, cache=True)\n",
    "    tempdata.var_names_make_unique()\n",
    "    eudata = eudata.concatenate(tempdata, join='outer', index_unique=None)\n",
    "print(eudata)\n",
    "obs_name_temp = eudata.obs_names.str.split(\":\")\n",
    "eudata.obs_names = [item[1] + '_3' for item in obs_name_temp]\n",
    "print(eudata.obs_names)"
   ]
  },
  {
   "cell_type": "code",
   "execution_count": 8,
   "metadata": {},
   "outputs": [
    {
     "name": "stdout",
     "output_type": "stream",
     "text": [
      "... reading from cache file cache/home-linxy29-holab-linxy-vivian-ncc_cellranger-velocyto-ncc_cellranger.h5ad\n",
      "AnnData object with n_obs × n_vars = 2631 × 36601\n",
      "    obs: 'Clusters', '_X', '_Y'\n",
      "    var: 'Accession', 'Chromosome', 'End', 'Start', 'Strand'\n",
      "    layers: 'ambiguous', 'matrix', 'spliced', 'unspliced'\n",
      "Index(['AAAGTCCTCTTAAGGC_1', 'AACAAAGCAGCTCTGG_1', 'AAAGGTAGTCATCCCT_1',\n",
      "       'AACCCAATCCGTGACG_1', 'AACCATGAGATGGTCG_1', 'AAGATAGGTCATTGCA_1',\n",
      "       'AAGGAATCATAGATCC_1', 'AACCATGTCGCACGAC_1', 'AAGCATCTCGTAATGC_1',\n",
      "       'AACAAAGAGTGAGCCA_1',\n",
      "       ...\n",
      "       'TTTGACTAGGCACCAA_1', 'TTTCGATTCGAGCCTG_1', 'TTTGACTTCAAGTGTC_1',\n",
      "       'TTTGTTGAGCATGATA_1', 'TTTCGATAGTGTCATC_1', 'TTTATGCTCTCCATAT_1',\n",
      "       'TTTATGCAGCTACTGT_1', 'TTTGACTGTGCCCAGT_1', 'TTTCGATTCTTTCCAA_1',\n",
      "       'TTTCGATTCCGTGACG_1'],\n",
      "      dtype='object', name='CellID', length=2631)\n"
     ]
    }
   ],
   "source": [
    "## add ncc data\n",
    "ldata =  scv.read('/home/linxy29/holab/linxy/vivian/' + sampleL[0] + '_cellranger/velocyto/' + sampleL[0] + '_cellranger.loom', cache=True)\n",
    "obs_name_rep = ldata.obs_names.str.replace('ncc_cellranger:|x', '') + '_1'\n",
    "ldata.obs_names = obs_name_rep\n",
    "ldata.var_names_make_unique()\n",
    "#adata.obs_names = sampleL[0] + '_' + adata.obs_names\n",
    "print(ldata)\n",
    "print(ldata.obs_names)"
   ]
  },
  {
   "cell_type": "code",
   "execution_count": 9,
   "metadata": {},
   "outputs": [
    {
     "name": "stdout",
     "output_type": "stream",
     "text": [
      "... reading from cache file cache/home-linxy29-holab-linxy-vivian-mes_cellranger-velocyto-mes_cellranger.h5ad\n",
      "AnnData object with n_obs × n_vars = 10804 × 36601\n",
      "    obs: 'Clusters', '_X', '_Y'\n",
      "    var: 'Accession', 'Chromosome', 'End', 'Start', 'Strand'\n",
      "    layers: 'ambiguous', 'matrix', 'spliced', 'unspliced'\n",
      "Index(['AAAGTCCAGAAGTCTA_2', 'AAAGTCCAGGGCTTCC_2', 'AAACGCTCATCTCGTC_2',\n",
      "       'AAAGTGAAGTAGGCCA_2', 'AAACGCTAGCTGACAG_2', 'AAACGAATCGGTCTGG_2',\n",
      "       'AAAGTGATCTCTTGCG_2', 'AAAGGTAGTGAACGGT_2', 'AAAGGTAGTTACTCAG_2',\n",
      "       'AAAGTGAGTGTGAGCA_2',\n",
      "       ...\n",
      "       'TTTGGTTCAACCGACC_2', 'TTTGATCTCATGGTAC_2', 'TTTCCTCGTTGCTAGT_2',\n",
      "       'TTTGACTGTCTAGTGT_2', 'TTTCCTCTCAACTCTT_2', 'TTTGTTGTCATCTGTT_2',\n",
      "       'TTTGTTGTCGAGCTGC_2', 'TTTGTTGTCTCATGGA_2', 'TTTGTTGTCCTGGGAC_2',\n",
      "       'TTTGTTGTCCCAAGTA_2'],\n",
      "      dtype='object', name='CellID', length=10804)\n",
      "AnnData object with n_obs × n_vars = 13435 × 36601\n",
      "    obs: 'Clusters', '_X', '_Y', 'batch'\n",
      "    var: 'Accession', 'Chromosome', 'End', 'Start', 'Strand'\n",
      "    layers: 'ambiguous', 'matrix', 'spliced', 'unspliced'\n"
     ]
    }
   ],
   "source": [
    "## add mes data\n",
    "templdata = scv.read('/home/linxy29/holab/linxy/vivian/' + sampleL[1] + '_cellranger/velocyto/' + sampleL[1] + '_cellranger.loom', cache=True)\n",
    "obs_name_rep = templdata.obs_names.str.replace('mes_cellranger:|x', '') + '_2'\n",
    "templdata.obs_names = obs_name_rep\n",
    "templdata.var_names_make_unique()\n",
    "print(templdata)\n",
    "print(templdata.obs_names)\n",
    "ldata = ldata.concatenate(templdata, join='outer', index_unique=None)\n",
    "print(ldata)"
   ]
  },
  {
   "cell_type": "code",
   "execution_count": 10,
   "metadata": {},
   "outputs": [
    {
     "name": "stdout",
     "output_type": "stream",
     "text": [
      "AnnData object with n_obs × n_vars = 24091 × 74559\n",
      "    obs: 'Clusters', '_X', '_Y', 'batch'\n",
      "    var: 'Accession-0', 'Chromosome-0', 'End-0', 'Start-0', 'Strand-0', 'Accession-1', 'Chromosome-1', 'End-1', 'Start-1', 'Strand-1'\n",
      "    layers: 'ambiguous', 'matrix', 'spliced', 'unspliced'\n"
     ]
    }
   ],
   "source": [
    "ldata = ldata.concatenate(eudata, join='outer', index_unique=None)\n",
    "print(ldata)"
   ]
  },
  {
   "cell_type": "markdown",
   "metadata": {},
   "source": [
    "## barcodes"
   ]
  },
  {
   "cell_type": "code",
   "execution_count": 11,
   "metadata": {},
   "outputs": [
    {
     "name": "stdout",
     "output_type": "stream",
     "text": [
      "Index(['AAAGTCCTCTTAAGGC_1', 'AACAAAGCAGCTCTGG_1', 'AAAGGTAGTCATCCCT_1',\n",
      "       'AACCCAATCCGTGACG_1', 'AACCATGAGATGGTCG_1', 'AAGATAGGTCATTGCA_1',\n",
      "       'AAGGAATCATAGATCC_1', 'AACCATGTCGCACGAC_1', 'AAGCATCTCGTAATGC_1',\n",
      "       'AACAAAGAGTGAGCCA_1',\n",
      "       ...\n",
      "       'TTGGATGTCAACGTGT_3', 'TTAGGGTGTCAGTCGC_3', 'TTTCGATCAAGACGGT_3',\n",
      "       'TTTGGTTAGTGAGCCA_3', 'TTTATGCTCAGGACGA_3', 'TTTGATCAGTGGCCTC_3',\n",
      "       'TTTGTTGGTAGACGTG_3', 'TTTCGATTCCTGGGAC_3', 'TTTCGATAGTAGGATT_3',\n",
      "       'TTTGGAGAGGTAACTA_3'],\n",
      "      dtype='object', length=24091)\n",
      "True\n",
      "24091\n"
     ]
    }
   ],
   "source": [
    "## change obs_names\n",
    "print(ldata.obs_names)\n",
    "print(np.unique(ldata.obs_names).size == len(ldata.obs_names))\n",
    "print(len(ldata.obs_names))"
   ]
  },
  {
   "cell_type": "code",
   "execution_count": 12,
   "metadata": {},
   "outputs": [
    {
     "name": "stdout",
     "output_type": "stream",
     "text": [
      "True\n",
      "22522\n",
      "                        x\n",
      "0      AAACCCATCAGCAATC_1\n",
      "1      AAACGAACACGGTGCT_1\n",
      "2      AAACGAACATTGTCGA_1\n",
      "3      AAACGCTCAAGAGGTC_1\n",
      "4      AAACGCTGTGCCCGTA_1\n",
      "...                   ...\n",
      "22517  TTTGTTGGTAGACGTG_3\n",
      "22518  TTTGTTGGTGAGCGAT_3\n",
      "22519  TTTGTTGGTTCTCTAT_3\n",
      "22520  TTTGTTGTCACCTCAC_3\n",
      "22521  TTTGTTGTCGGATAAA_3\n",
      "\n",
      "[22522 rows x 1 columns]\n"
     ]
    }
   ],
   "source": [
    "## change cellID name in metadata\n",
    "cellID_obs['x'] = cellID_obs['x'].str.replace('-1', '')\n",
    "print(np.unique(cellID_obs['x']).size == len(cellID_obs['x']))  ## check whether have duplicate barcodes\n",
    "print(len(cellID_obs))\n",
    "print(cellID_obs)"
   ]
  },
  {
   "cell_type": "code",
   "execution_count": 14,
   "metadata": {},
   "outputs": [
    {
     "data": {
      "text/plain": [
       "22024"
      ]
     },
     "execution_count": 14,
     "metadata": {},
     "output_type": "execute_result"
    }
   ],
   "source": [
    "filtered_barcode = np.intersect1d(cellID_obs['x'],ldata.obs_names)\n",
    "len(filtered_barcode)"
   ]
  },
  {
   "cell_type": "code",
   "execution_count": 15,
   "metadata": {},
   "outputs": [
    {
     "name": "stdout",
     "output_type": "stream",
     "text": [
      "AnnData object with n_obs × n_vars = 22024 × 74559\n",
      "    obs: 'Clusters', '_X', '_Y', 'batch'\n",
      "    var: 'Accession-0', 'Chromosome-0', 'End-0', 'Start-0', 'Strand-0', 'Accession-1', 'Chromosome-1', 'End-1', 'Start-1', 'Strand-1'\n",
      "    layers: 'ambiguous', 'matrix', 'spliced', 'unspliced'\n"
     ]
    }
   ],
   "source": [
    "filtered_ldata = ldata[filtered_barcode].copy()\n",
    "print(filtered_ldata)"
   ]
  },
  {
   "cell_type": "markdown",
   "metadata": {},
   "source": [
    "Add UMAP and annotation"
   ]
  },
  {
   "cell_type": "code",
   "execution_count": 16,
   "metadata": {},
   "outputs": [
    {
     "name": "stdout",
     "output_type": "stream",
     "text": [
      "                   CellID\n",
      "0      AAACCCAAGACATCAA_2\n",
      "1      AAACCCAAGACGCATG_2\n",
      "2      AAACCCAAGATGTTGA_2\n",
      "3      AAACCCAAGCCGATCC_3\n",
      "4      AAACCCAAGGTCATCT_2\n",
      "...                   ...\n",
      "22019  TTTGTTGTCATTGCGA_2\n",
      "22020  TTTGTTGTCCCAAGTA_2\n",
      "22021  TTTGTTGTCCTGGGAC_2\n",
      "22022  TTTGTTGTCGAGCTGC_2\n",
      "22023  TTTGTTGTCTCATGGA_2\n",
      "\n",
      "[22024 rows x 1 columns]\n"
     ]
    }
   ],
   "source": [
    "ldata_index = pd.DataFrame(filtered_ldata.obs.index)\n",
    "ldata_index.columns = ['CellID']\n",
    "print(ldata_index)"
   ]
  },
  {
   "cell_type": "code",
   "execution_count": 17,
   "metadata": {},
   "outputs": [
    {
     "name": "stdout",
     "output_type": "stream",
     "text": [
      "                   CellID    UMAP_1    UMAP_2\n",
      "0      AAACCCATCAGCAATC_1  0.761892  5.784208\n",
      "1      AAACGAACACGGTGCT_1 -2.664008  2.284072\n",
      "2      AAACGAACATTGTCGA_1 -0.469658  8.824039\n",
      "3      AAACGCTCAAGAGGTC_1 -1.168397  8.088729\n",
      "4      AAACGCTGTGCCCGTA_1  3.131986  2.131230\n",
      "...                   ...       ...       ...\n",
      "22517  TTTGTTGGTAGACGTG_3 -0.302517 -5.987935\n",
      "22518  TTTGTTGGTGAGCGAT_3  2.782733 -0.404670\n",
      "22519  TTTGTTGGTTCTCTAT_3  3.069862 -1.504854\n",
      "22520  TTTGTTGTCACCTCAC_3  0.649504 -9.676390\n",
      "22521  TTTGTTGTCGGATAAA_3  3.593241 -8.271546\n",
      "\n",
      "[22522 rows x 3 columns]\n"
     ]
    }
   ],
   "source": [
    "umap_cord = umap_cord.rename(columns = {'Unnamed: 0':'CellID'})\n",
    "#umap_cord = umap_cord.rename(columns = {'Cell ID':'CellID'})\n",
    "umap_cord['CellID'] = umap_cord['CellID'].str.replace('-1', '')\n",
    "umap_ordered = ldata_index.merge(umap_cord, on = \"CellID\")\n",
    "print(umap_cord)"
   ]
  },
  {
   "cell_type": "code",
   "execution_count": 18,
   "metadata": {},
   "outputs": [],
   "source": [
    "umap_ordered = umap_ordered.iloc[:,1:]\n",
    "filtered_ldata.obsm['X_umap'] = umap_ordered.values"
   ]
  },
  {
   "cell_type": "code",
   "execution_count": 19,
   "metadata": {},
   "outputs": [
    {
     "name": "stdout",
     "output_type": "stream",
     "text": [
      "                   CellID   x\n",
      "0      AAACCCAAGACATCAA_2   1\n",
      "1      AAACCCAAGACGCATG_2   0\n",
      "2      AAACCCAAGATGTTGA_2   3\n",
      "3      AAACCCAAGCCGATCC_3  17\n",
      "4      AAACCCAAGGTCATCT_2   3\n",
      "...                   ...  ..\n",
      "22019  TTTGTTGTCATTGCGA_2  13\n",
      "22020  TTTGTTGTCCCAAGTA_2  10\n",
      "22021  TTTGTTGTCCTGGGAC_2   1\n",
      "22022  TTTGTTGTCGAGCTGC_2   9\n",
      "22023  TTTGTTGTCTCATGGA_2   1\n",
      "\n",
      "[22024 rows x 2 columns]\n"
     ]
    }
   ],
   "source": [
    "cell_clusters = cell_clusters.rename(columns = {'Unnamed: 0':'CellID'})\n",
    "cell_clusters['CellID'] = cell_clusters['CellID'].str.replace('-1', '')\n",
    "cell_clusters = ldata_index.merge(cell_clusters, on = \"CellID\")\n",
    "print(cell_clusters)"
   ]
  },
  {
   "cell_type": "code",
   "execution_count": 20,
   "metadata": {},
   "outputs": [
    {
     "name": "stdout",
     "output_type": "stream",
     "text": [
      "AnnData object with n_obs × n_vars = 22024 × 74559\n",
      "    obs: 'Clusters', '_X', '_Y', 'batch', 'seurat_clusters'\n",
      "    var: 'Accession-0', 'Chromosome-0', 'End-0', 'Start-0', 'Strand-0', 'Accession-1', 'Chromosome-1', 'End-1', 'Start-1', 'Strand-1'\n",
      "    obsm: 'X_umap'\n",
      "    layers: 'ambiguous', 'matrix', 'spliced', 'unspliced'\n"
     ]
    }
   ],
   "source": [
    "cell_clusters = cell_clusters.iloc[:,1:]\n",
    "filtered_ldata.obs['seurat_clusters'] = cell_clusters.values\n",
    "print(filtered_ldata)"
   ]
  },
  {
   "cell_type": "code",
   "execution_count": 23,
   "metadata": {},
   "outputs": [],
   "source": [
    "filtered_ldata.write(results_file)"
   ]
  },
  {
   "cell_type": "code",
   "execution_count": null,
   "metadata": {},
   "outputs": [],
   "source": []
  }
 ],
 "metadata": {
  "kernelspec": {
   "display_name": "Python 3 (ipykernel)",
   "language": "python",
   "name": "python3"
  },
  "language_info": {
   "codemirror_mode": {
    "name": "ipython",
    "version": 3
   },
   "file_extension": ".py",
   "mimetype": "text/x-python",
   "name": "python",
   "nbconvert_exporter": "python",
   "pygments_lexer": "ipython3",
   "version": "3.7.12"
  },
  "vscode": {
   "interpreter": {
    "hash": "7344c7d0715a2f7d0deaa4af8fae64638b86a614dee3631f34dd23dde8c417b2"
   }
  }
 },
 "nbformat": 4,
 "nbformat_minor": 2
}
