{
 "cells": [
  {
   "cell_type": "code",
   "execution_count": 1,
   "metadata": {},
   "outputs": [],
   "source": [
    "import anndata\n",
    "import scvelo as scv\n",
    "import pandas as pd\n",
    "import matplotlib.pyplot as plt\n",
    "import numpy as np\n",
    "import scanpy as sc"
   ]
  },
  {
   "cell_type": "code",
   "execution_count": 2,
   "metadata": {},
   "outputs": [],
   "source": [
    "results_file = '/storage/holab/linxy/vivian/scanpy/ncc_seurate.h5ad'  # the file that will store the analysis results"
   ]
  },
  {
   "cell_type": "code",
   "execution_count": 3,
   "metadata": {},
   "outputs": [
    {
     "name": "stdout",
     "output_type": "stream",
     "text": [
      "scanpy==1.9.1 anndata==0.8.0 umap==0.5.3 numpy==1.21.6 scipy==1.7.3 pandas==1.3.5 scikit-learn==1.0.2 statsmodels==0.13.2 pynndescent==0.5.6\n"
     ]
    }
   ],
   "source": [
    "sc.settings.verbosity = 3             # verbosity: errors (0), warnings (1), info (2), hints (3)\n",
    "sc.logging.print_header()\n",
    "sc.settings.set_figure_params(dpi=80, facecolor='white')"
   ]
  },
  {
   "cell_type": "code",
   "execution_count": 4,
   "metadata": {},
   "outputs": [
    {
     "ename": "FileNotFoundError",
     "evalue": "[Errno 2] No such file or directory: '/storage/holab/linxy/vivian/veloAE/ncc_cellID_obs.csv'",
     "output_type": "error",
     "traceback": [
      "\u001b[0;31m---------------------------------------------------------------------------\u001b[0m",
      "\u001b[0;31mFileNotFoundError\u001b[0m                         Traceback (most recent call last)",
      "\u001b[0;32m<ipython-input-4-c57d18e3635d>\u001b[0m in \u001b[0;36m<module>\u001b[0;34m\u001b[0m\n\u001b[1;32m      1\u001b[0m \u001b[0;31m# get meta-data information\u001b[0m\u001b[0;34m\u001b[0m\u001b[0;34m\u001b[0m\u001b[0;34m\u001b[0m\u001b[0m\n\u001b[1;32m      2\u001b[0m \u001b[0mpath\u001b[0m \u001b[0;34m=\u001b[0m \u001b[0;34m\"/storage/holab/linxy/vivian/veloAE/\"\u001b[0m\u001b[0;34m\u001b[0m\u001b[0;34m\u001b[0m\u001b[0m\n\u001b[0;32m----> 3\u001b[0;31m \u001b[0mcellID_obs\u001b[0m \u001b[0;34m=\u001b[0m \u001b[0mpd\u001b[0m\u001b[0;34m.\u001b[0m\u001b[0mread_csv\u001b[0m\u001b[0;34m(\u001b[0m\u001b[0mpath\u001b[0m \u001b[0;34m+\u001b[0m \u001b[0;34m\"ncc_cellID_obs.csv\"\u001b[0m\u001b[0;34m)\u001b[0m\u001b[0;34m\u001b[0m\u001b[0;34m\u001b[0m\u001b[0m\n\u001b[0m\u001b[1;32m      4\u001b[0m \u001b[0mprint\u001b[0m\u001b[0;34m(\u001b[0m\u001b[0mcellID_obs\u001b[0m\u001b[0;34m.\u001b[0m\u001b[0mhead\u001b[0m\u001b[0;34m(\u001b[0m\u001b[0;34m)\u001b[0m\u001b[0;34m)\u001b[0m\u001b[0;34m\u001b[0m\u001b[0;34m\u001b[0m\u001b[0m\n\u001b[1;32m      5\u001b[0m \u001b[0mprint\u001b[0m\u001b[0;34m(\u001b[0m\u001b[0mlen\u001b[0m\u001b[0;34m(\u001b[0m\u001b[0mcellID_obs\u001b[0m\u001b[0;34m)\u001b[0m\u001b[0;34m)\u001b[0m\u001b[0;34m\u001b[0m\u001b[0;34m\u001b[0m\u001b[0m\n",
      "\u001b[0;32m~/.conda/envs/veloAE/lib/python3.7/site-packages/pandas/util/_decorators.py\u001b[0m in \u001b[0;36mwrapper\u001b[0;34m(*args, **kwargs)\u001b[0m\n\u001b[1;32m    309\u001b[0m                     \u001b[0mstacklevel\u001b[0m\u001b[0;34m=\u001b[0m\u001b[0mstacklevel\u001b[0m\u001b[0;34m,\u001b[0m\u001b[0;34m\u001b[0m\u001b[0;34m\u001b[0m\u001b[0m\n\u001b[1;32m    310\u001b[0m                 )\n\u001b[0;32m--> 311\u001b[0;31m             \u001b[0;32mreturn\u001b[0m \u001b[0mfunc\u001b[0m\u001b[0;34m(\u001b[0m\u001b[0;34m*\u001b[0m\u001b[0margs\u001b[0m\u001b[0;34m,\u001b[0m \u001b[0;34m**\u001b[0m\u001b[0mkwargs\u001b[0m\u001b[0;34m)\u001b[0m\u001b[0;34m\u001b[0m\u001b[0;34m\u001b[0m\u001b[0m\n\u001b[0m\u001b[1;32m    312\u001b[0m \u001b[0;34m\u001b[0m\u001b[0m\n\u001b[1;32m    313\u001b[0m         \u001b[0;32mreturn\u001b[0m \u001b[0mwrapper\u001b[0m\u001b[0;34m\u001b[0m\u001b[0;34m\u001b[0m\u001b[0m\n",
      "\u001b[0;32m~/.conda/envs/veloAE/lib/python3.7/site-packages/pandas/io/parsers/readers.py\u001b[0m in \u001b[0;36mread_csv\u001b[0;34m(filepath_or_buffer, sep, delimiter, header, names, index_col, usecols, squeeze, prefix, mangle_dupe_cols, dtype, engine, converters, true_values, false_values, skipinitialspace, skiprows, skipfooter, nrows, na_values, keep_default_na, na_filter, verbose, skip_blank_lines, parse_dates, infer_datetime_format, keep_date_col, date_parser, dayfirst, cache_dates, iterator, chunksize, compression, thousands, decimal, lineterminator, quotechar, quoting, doublequote, escapechar, comment, encoding, encoding_errors, dialect, error_bad_lines, warn_bad_lines, on_bad_lines, delim_whitespace, low_memory, memory_map, float_precision, storage_options)\u001b[0m\n\u001b[1;32m    584\u001b[0m     \u001b[0mkwds\u001b[0m\u001b[0;34m.\u001b[0m\u001b[0mupdate\u001b[0m\u001b[0;34m(\u001b[0m\u001b[0mkwds_defaults\u001b[0m\u001b[0;34m)\u001b[0m\u001b[0;34m\u001b[0m\u001b[0;34m\u001b[0m\u001b[0m\n\u001b[1;32m    585\u001b[0m \u001b[0;34m\u001b[0m\u001b[0m\n\u001b[0;32m--> 586\u001b[0;31m     \u001b[0;32mreturn\u001b[0m \u001b[0m_read\u001b[0m\u001b[0;34m(\u001b[0m\u001b[0mfilepath_or_buffer\u001b[0m\u001b[0;34m,\u001b[0m \u001b[0mkwds\u001b[0m\u001b[0;34m)\u001b[0m\u001b[0;34m\u001b[0m\u001b[0;34m\u001b[0m\u001b[0m\n\u001b[0m\u001b[1;32m    587\u001b[0m \u001b[0;34m\u001b[0m\u001b[0m\n\u001b[1;32m    588\u001b[0m \u001b[0;34m\u001b[0m\u001b[0m\n",
      "\u001b[0;32m~/.conda/envs/veloAE/lib/python3.7/site-packages/pandas/io/parsers/readers.py\u001b[0m in \u001b[0;36m_read\u001b[0;34m(filepath_or_buffer, kwds)\u001b[0m\n\u001b[1;32m    480\u001b[0m \u001b[0;34m\u001b[0m\u001b[0m\n\u001b[1;32m    481\u001b[0m     \u001b[0;31m# Create the parser.\u001b[0m\u001b[0;34m\u001b[0m\u001b[0;34m\u001b[0m\u001b[0;34m\u001b[0m\u001b[0m\n\u001b[0;32m--> 482\u001b[0;31m     \u001b[0mparser\u001b[0m \u001b[0;34m=\u001b[0m \u001b[0mTextFileReader\u001b[0m\u001b[0;34m(\u001b[0m\u001b[0mfilepath_or_buffer\u001b[0m\u001b[0;34m,\u001b[0m \u001b[0;34m**\u001b[0m\u001b[0mkwds\u001b[0m\u001b[0;34m)\u001b[0m\u001b[0;34m\u001b[0m\u001b[0;34m\u001b[0m\u001b[0m\n\u001b[0m\u001b[1;32m    483\u001b[0m \u001b[0;34m\u001b[0m\u001b[0m\n\u001b[1;32m    484\u001b[0m     \u001b[0;32mif\u001b[0m \u001b[0mchunksize\u001b[0m \u001b[0;32mor\u001b[0m \u001b[0miterator\u001b[0m\u001b[0;34m:\u001b[0m\u001b[0;34m\u001b[0m\u001b[0;34m\u001b[0m\u001b[0m\n",
      "\u001b[0;32m~/.conda/envs/veloAE/lib/python3.7/site-packages/pandas/io/parsers/readers.py\u001b[0m in \u001b[0;36m__init__\u001b[0;34m(self, f, engine, **kwds)\u001b[0m\n\u001b[1;32m    809\u001b[0m             \u001b[0mself\u001b[0m\u001b[0;34m.\u001b[0m\u001b[0moptions\u001b[0m\u001b[0;34m[\u001b[0m\u001b[0;34m\"has_index_names\"\u001b[0m\u001b[0;34m]\u001b[0m \u001b[0;34m=\u001b[0m \u001b[0mkwds\u001b[0m\u001b[0;34m[\u001b[0m\u001b[0;34m\"has_index_names\"\u001b[0m\u001b[0;34m]\u001b[0m\u001b[0;34m\u001b[0m\u001b[0;34m\u001b[0m\u001b[0m\n\u001b[1;32m    810\u001b[0m \u001b[0;34m\u001b[0m\u001b[0m\n\u001b[0;32m--> 811\u001b[0;31m         \u001b[0mself\u001b[0m\u001b[0;34m.\u001b[0m\u001b[0m_engine\u001b[0m \u001b[0;34m=\u001b[0m \u001b[0mself\u001b[0m\u001b[0;34m.\u001b[0m\u001b[0m_make_engine\u001b[0m\u001b[0;34m(\u001b[0m\u001b[0mself\u001b[0m\u001b[0;34m.\u001b[0m\u001b[0mengine\u001b[0m\u001b[0;34m)\u001b[0m\u001b[0;34m\u001b[0m\u001b[0;34m\u001b[0m\u001b[0m\n\u001b[0m\u001b[1;32m    812\u001b[0m \u001b[0;34m\u001b[0m\u001b[0m\n\u001b[1;32m    813\u001b[0m     \u001b[0;32mdef\u001b[0m \u001b[0mclose\u001b[0m\u001b[0;34m(\u001b[0m\u001b[0mself\u001b[0m\u001b[0;34m)\u001b[0m\u001b[0;34m:\u001b[0m\u001b[0;34m\u001b[0m\u001b[0;34m\u001b[0m\u001b[0m\n",
      "\u001b[0;32m~/.conda/envs/veloAE/lib/python3.7/site-packages/pandas/io/parsers/readers.py\u001b[0m in \u001b[0;36m_make_engine\u001b[0;34m(self, engine)\u001b[0m\n\u001b[1;32m   1038\u001b[0m             )\n\u001b[1;32m   1039\u001b[0m         \u001b[0;31m# error: Too many arguments for \"ParserBase\"\u001b[0m\u001b[0;34m\u001b[0m\u001b[0;34m\u001b[0m\u001b[0;34m\u001b[0m\u001b[0m\n\u001b[0;32m-> 1040\u001b[0;31m         \u001b[0;32mreturn\u001b[0m \u001b[0mmapping\u001b[0m\u001b[0;34m[\u001b[0m\u001b[0mengine\u001b[0m\u001b[0;34m]\u001b[0m\u001b[0;34m(\u001b[0m\u001b[0mself\u001b[0m\u001b[0;34m.\u001b[0m\u001b[0mf\u001b[0m\u001b[0;34m,\u001b[0m \u001b[0;34m**\u001b[0m\u001b[0mself\u001b[0m\u001b[0;34m.\u001b[0m\u001b[0moptions\u001b[0m\u001b[0;34m)\u001b[0m  \u001b[0;31m# type: ignore[call-arg]\u001b[0m\u001b[0;34m\u001b[0m\u001b[0;34m\u001b[0m\u001b[0m\n\u001b[0m\u001b[1;32m   1041\u001b[0m \u001b[0;34m\u001b[0m\u001b[0m\n\u001b[1;32m   1042\u001b[0m     \u001b[0;32mdef\u001b[0m \u001b[0m_failover_to_python\u001b[0m\u001b[0;34m(\u001b[0m\u001b[0mself\u001b[0m\u001b[0;34m)\u001b[0m\u001b[0;34m:\u001b[0m\u001b[0;34m\u001b[0m\u001b[0;34m\u001b[0m\u001b[0m\n",
      "\u001b[0;32m~/.conda/envs/veloAE/lib/python3.7/site-packages/pandas/io/parsers/c_parser_wrapper.py\u001b[0m in \u001b[0;36m__init__\u001b[0;34m(self, src, **kwds)\u001b[0m\n\u001b[1;32m     49\u001b[0m \u001b[0;34m\u001b[0m\u001b[0m\n\u001b[1;32m     50\u001b[0m         \u001b[0;31m# open handles\u001b[0m\u001b[0;34m\u001b[0m\u001b[0;34m\u001b[0m\u001b[0;34m\u001b[0m\u001b[0m\n\u001b[0;32m---> 51\u001b[0;31m         \u001b[0mself\u001b[0m\u001b[0;34m.\u001b[0m\u001b[0m_open_handles\u001b[0m\u001b[0;34m(\u001b[0m\u001b[0msrc\u001b[0m\u001b[0;34m,\u001b[0m \u001b[0mkwds\u001b[0m\u001b[0;34m)\u001b[0m\u001b[0;34m\u001b[0m\u001b[0;34m\u001b[0m\u001b[0m\n\u001b[0m\u001b[1;32m     52\u001b[0m         \u001b[0;32massert\u001b[0m \u001b[0mself\u001b[0m\u001b[0;34m.\u001b[0m\u001b[0mhandles\u001b[0m \u001b[0;32mis\u001b[0m \u001b[0;32mnot\u001b[0m \u001b[0;32mNone\u001b[0m\u001b[0;34m\u001b[0m\u001b[0;34m\u001b[0m\u001b[0m\n\u001b[1;32m     53\u001b[0m \u001b[0;34m\u001b[0m\u001b[0m\n",
      "\u001b[0;32m~/.conda/envs/veloAE/lib/python3.7/site-packages/pandas/io/parsers/base_parser.py\u001b[0m in \u001b[0;36m_open_handles\u001b[0;34m(self, src, kwds)\u001b[0m\n\u001b[1;32m    227\u001b[0m             \u001b[0mmemory_map\u001b[0m\u001b[0;34m=\u001b[0m\u001b[0mkwds\u001b[0m\u001b[0;34m.\u001b[0m\u001b[0mget\u001b[0m\u001b[0;34m(\u001b[0m\u001b[0;34m\"memory_map\"\u001b[0m\u001b[0;34m,\u001b[0m \u001b[0;32mFalse\u001b[0m\u001b[0;34m)\u001b[0m\u001b[0;34m,\u001b[0m\u001b[0;34m\u001b[0m\u001b[0;34m\u001b[0m\u001b[0m\n\u001b[1;32m    228\u001b[0m             \u001b[0mstorage_options\u001b[0m\u001b[0;34m=\u001b[0m\u001b[0mkwds\u001b[0m\u001b[0;34m.\u001b[0m\u001b[0mget\u001b[0m\u001b[0;34m(\u001b[0m\u001b[0;34m\"storage_options\"\u001b[0m\u001b[0;34m,\u001b[0m \u001b[0;32mNone\u001b[0m\u001b[0;34m)\u001b[0m\u001b[0;34m,\u001b[0m\u001b[0;34m\u001b[0m\u001b[0;34m\u001b[0m\u001b[0m\n\u001b[0;32m--> 229\u001b[0;31m             \u001b[0merrors\u001b[0m\u001b[0;34m=\u001b[0m\u001b[0mkwds\u001b[0m\u001b[0;34m.\u001b[0m\u001b[0mget\u001b[0m\u001b[0;34m(\u001b[0m\u001b[0;34m\"encoding_errors\"\u001b[0m\u001b[0;34m,\u001b[0m \u001b[0;34m\"strict\"\u001b[0m\u001b[0;34m)\u001b[0m\u001b[0;34m,\u001b[0m\u001b[0;34m\u001b[0m\u001b[0;34m\u001b[0m\u001b[0m\n\u001b[0m\u001b[1;32m    230\u001b[0m         )\n\u001b[1;32m    231\u001b[0m \u001b[0;34m\u001b[0m\u001b[0m\n",
      "\u001b[0;32m~/.conda/envs/veloAE/lib/python3.7/site-packages/pandas/io/common.py\u001b[0m in \u001b[0;36mget_handle\u001b[0;34m(path_or_buf, mode, encoding, compression, memory_map, is_text, errors, storage_options)\u001b[0m\n\u001b[1;32m    705\u001b[0m                 \u001b[0mencoding\u001b[0m\u001b[0;34m=\u001b[0m\u001b[0mioargs\u001b[0m\u001b[0;34m.\u001b[0m\u001b[0mencoding\u001b[0m\u001b[0;34m,\u001b[0m\u001b[0;34m\u001b[0m\u001b[0;34m\u001b[0m\u001b[0m\n\u001b[1;32m    706\u001b[0m                 \u001b[0merrors\u001b[0m\u001b[0;34m=\u001b[0m\u001b[0merrors\u001b[0m\u001b[0;34m,\u001b[0m\u001b[0;34m\u001b[0m\u001b[0;34m\u001b[0m\u001b[0m\n\u001b[0;32m--> 707\u001b[0;31m                 \u001b[0mnewline\u001b[0m\u001b[0;34m=\u001b[0m\u001b[0;34m\"\"\u001b[0m\u001b[0;34m,\u001b[0m\u001b[0;34m\u001b[0m\u001b[0;34m\u001b[0m\u001b[0m\n\u001b[0m\u001b[1;32m    708\u001b[0m             )\n\u001b[1;32m    709\u001b[0m         \u001b[0;32melse\u001b[0m\u001b[0;34m:\u001b[0m\u001b[0;34m\u001b[0m\u001b[0;34m\u001b[0m\u001b[0m\n",
      "\u001b[0;31mFileNotFoundError\u001b[0m: [Errno 2] No such file or directory: '/storage/holab/linxy/vivian/veloAE/ncc_cellID_obs.csv'"
     ]
    }
   ],
   "source": [
    "# get meta-data information\n",
    "path = \"/storage/holab/linxy/vivian/veloAE/\"\n",
    "cellID_obs = pd.read_csv(path + \"ncc_cellID_obs.csv\")\n",
    "print(cellID_obs.head())\n",
    "print(len(cellID_obs))\n",
    "umap_cord = pd.read_csv(path + \"ncc_cell_embeddings.csv\")\n",
    "print(umap_cord)\n",
    "cell_clusters = pd.read_csv(path + \"ncc_clusters.csv\")"
   ]
  },
  {
   "cell_type": "code",
   "execution_count": 5,
   "metadata": {},
   "outputs": [
    {
     "name": "stdout",
     "output_type": "stream",
     "text": [
      "... reading from cache file cache/storage-holab-linxy-vivian-ncc1_cellranger-outs-filtered_feature_bc_matrix-matrix.h5ad\n",
      "... reading from cache file cache/storage-holab-linxy-vivian-ncc1_cellranger-velocyto-ncc1_cellranger.h5ad\n"
     ]
    },
    {
     "name": "stderr",
     "output_type": "stream",
     "text": [
      "Variable names are not unique. To make them unique, call `.var_names_make_unique`.\n"
     ]
    },
    {
     "name": "stdout",
     "output_type": "stream",
     "text": [
      "AnnData object with n_obs × n_vars = 2506 × 36601\n",
      "    obs: 'Clusters', '_X', '_Y', 'initial_size_spliced', 'initial_size_unspliced', 'initial_size'\n",
      "    var: 'gene_ids', 'feature_types', 'Accession', 'Chromosome', 'End', 'Start', 'Strand'\n",
      "    layers: 'ambiguous', 'matrix', 'spliced', 'unspliced'\n",
      "Index(['ncc1_AAACCCATCAGCAATC', 'ncc1_AAACGAACACGGTGCT',\n",
      "       'ncc1_AAACGAACATTGTCGA', 'ncc1_AAACGCTCAAGAGGTC',\n",
      "       'ncc1_AAACGCTGTGCCCGTA', 'ncc1_AAAGAACCAGAGGTAC',\n",
      "       'ncc1_AAAGAACTCTTGCAAG', 'ncc1_AAAGGATCACCATAAC',\n",
      "       'ncc1_AAAGGATCATGGCGCT', 'ncc1_AAAGGGCTCTTGGCTC',\n",
      "       ...\n",
      "       'ncc1_TTTGACTTCAAGTGTC', 'ncc1_TTTGATCAGAGCGACT',\n",
      "       'ncc1_TTTGGAGCATACAGAA', 'ncc1_TTTGGAGTCAAGTCGT',\n",
      "       'ncc1_TTTGGTTGTTTGCCGG', 'ncc1_TTTGGTTTCTCCTACG',\n",
      "       'ncc1_TTTGTTGAGCATGATA', 'ncc1_TTTGTTGAGGTTGTTC',\n",
      "       'ncc1_TTTGTTGCACACGTGC', 'ncc1_TTTGTTGGTTTCCAAG'],\n",
      "      dtype='object', length=2506)\n"
     ]
    }
   ],
   "source": [
    "sampleL = [\"ncc1\", \"ncc2\", \"ncc3\", \"ncc4\"]\n",
    "adata = sc.read_10x_mtx('/storage/holab/linxy/vivian/' + sampleL[0] + '_cellranger/outs/filtered_feature_bc_matrix/', var_names='gene_symbols', cache=True)                             \n",
    "ldata =  scv.read(\"/storage/holab/linxy/vivian/\" + sampleL[0] + \"_cellranger/velocyto/\" + sampleL[0] + \"_cellranger.loom\", cache=True)\n",
    "adata.var_names_make_unique()\n",
    "adata = scv.utils.merge(adata, ldata)\n",
    "adata.obs_names = sampleL[0] + '_' + adata.obs_names\n",
    "print(adata)\n",
    "print(adata.obs_names)"
   ]
  },
  {
   "cell_type": "code",
   "execution_count": 6,
   "metadata": {},
   "outputs": [
    {
     "name": "stdout",
     "output_type": "stream",
     "text": [
      "... reading from cache file cache/storage-holab-linxy-vivian-ncc2_cellranger-outs-filtered_feature_bc_matrix-matrix.h5ad\n",
      "... reading from cache file cache/storage-holab-linxy-vivian-ncc2_cellranger-velocyto-ncc2_cellranger.h5ad\n"
     ]
    },
    {
     "name": "stderr",
     "output_type": "stream",
     "text": [
      "Variable names are not unique. To make them unique, call `.var_names_make_unique`.\n"
     ]
    },
    {
     "name": "stdout",
     "output_type": "stream",
     "text": [
      "... reading from cache file cache/storage-holab-linxy-vivian-ncc3_cellranger-outs-filtered_feature_bc_matrix-matrix.h5ad\n",
      "... reading from cache file cache/storage-holab-linxy-vivian-ncc3_cellranger-velocyto-ncc3_cellranger.h5ad\n"
     ]
    },
    {
     "name": "stderr",
     "output_type": "stream",
     "text": [
      "Variable names are not unique. To make them unique, call `.var_names_make_unique`.\n"
     ]
    },
    {
     "name": "stdout",
     "output_type": "stream",
     "text": [
      "... reading from cache file cache/storage-holab-linxy-vivian-ncc4_cellranger-outs-filtered_feature_bc_matrix-matrix.h5ad\n",
      "... reading from cache file cache/storage-holab-linxy-vivian-ncc4_cellranger-velocyto-ncc4_cellranger.h5ad\n"
     ]
    },
    {
     "name": "stderr",
     "output_type": "stream",
     "text": [
      "Variable names are not unique. To make them unique, call `.var_names_make_unique`.\n"
     ]
    },
    {
     "name": "stdout",
     "output_type": "stream",
     "text": [
      "AnnData object with n_obs × n_vars = 2506 × 36601\n",
      "    obs: 'Clusters', '_X', '_Y', 'initial_size_spliced', 'initial_size_unspliced', 'initial_size'\n",
      "    var: 'Accession', 'Chromosome', 'End', 'Start', 'Strand'\n",
      "    layers: 'ambiguous', 'matrix', 'spliced', 'unspliced'\n"
     ]
    }
   ],
   "source": [
    "for i in range(1,len(sampleL)):\n",
    "    tempadata = sc.read_10x_mtx('/storage/holab/linxy/vivian/' + sampleL[i] + '_cellranger/outs/filtered_feature_bc_matrix/', var_names='gene_symbols', cache=True)                             \n",
    "    templdata =  scv.read(\"/storage/holab/linxy/vivian/\" + sampleL[i] + \"_cellranger/velocyto/\" + sampleL[i] + \"_cellranger.loom\", cache=True)\n",
    "    tempadata.var_names_make_unique()\n",
    "    tempadata = scv.utils.merge(tempadata, templdata)\n",
    "    tempadata.obs_names = sampleL[i] + '_' + tempadata.obs_names\n",
    "    adata = adata.concatenate(tempadata, join='outer', index_unique=None)\n",
    "\n",
    "print(ldata)"
   ]
  },
  {
   "cell_type": "markdown",
   "metadata": {},
   "source": [
    "## barcodes"
   ]
  },
  {
   "cell_type": "code",
   "execution_count": 8,
   "metadata": {},
   "outputs": [
    {
     "name": "stdout",
     "output_type": "stream",
     "text": [
      "Index(['ncc1_AAACCCATCAGCAATC', 'ncc1_AAACGAACACGGTGCT',\n",
      "       'ncc1_AAACGAACATTGTCGA', 'ncc1_AAACGCTCAAGAGGTC',\n",
      "       'ncc1_AAACGCTGTGCCCGTA', 'ncc1_AAAGAACCAGAGGTAC',\n",
      "       'ncc1_AAAGAACTCTTGCAAG', 'ncc1_AAAGGATCACCATAAC',\n",
      "       'ncc1_AAAGGATCATGGCGCT', 'ncc1_AAAGGGCTCTTGGCTC',\n",
      "       ...\n",
      "       'ncc4_TTTGACTTCAAGTGTC', 'ncc4_TTTGATCAGAGCGACT',\n",
      "       'ncc4_TTTGGAGCATACAGAA', 'ncc4_TTTGGAGTCAAGTCGT',\n",
      "       'ncc4_TTTGGTTGTTTGCCGG', 'ncc4_TTTGGTTTCTCCTACG',\n",
      "       'ncc4_TTTGTTGAGCATGATA', 'ncc4_TTTGTTGAGGTTGTTC',\n",
      "       'ncc4_TTTGTTGCACACGTGC', 'ncc4_TTTGTTGGTTTCCAAG'],\n",
      "      dtype='object', length=9892)\n",
      "True\n"
     ]
    }
   ],
   "source": [
    "## change obs_names\n",
    "print(adata.obs_names)\n",
    "print(np.unique(adata.obs_names).size == len(adata.obs_names))"
   ]
  },
  {
   "cell_type": "code",
   "execution_count": 11,
   "metadata": {},
   "outputs": [
    {
     "name": "stdout",
     "output_type": "stream",
     "text": [
      "True\n",
      "7357\n",
      "                          x\n",
      "0     ncc1_AAACCCATCAGCAATC\n",
      "1     ncc1_AAACGAACACGGTGCT\n",
      "2     ncc1_AAACGAACATTGTCGA\n",
      "3     ncc1_AAACGCTCAAGAGGTC\n",
      "4     ncc1_AAACGCTGTGCCCGTA\n",
      "...                     ...\n",
      "7352  ncc4_TTTGGAGTCAAGTCGT\n",
      "7353  ncc4_TTTGGTTGTTTGCCGG\n",
      "7354  ncc4_TTTGGTTTCTCCTACG\n",
      "7355  ncc4_TTTGTTGCACACGTGC\n",
      "7356  ncc4_TTTGTTGGTTTCCAAG\n",
      "\n",
      "[7357 rows x 1 columns]\n"
     ]
    }
   ],
   "source": [
    "## change cellID name in metadata\n",
    "cellID_obs['x'] = cellID_obs['x'].str.replace('-1', '')\n",
    "print(np.unique(cellID_obs['x']).size == len(cellID_obs['x']))  ## check whether have duplicate barcodes\n",
    "print(len(cellID_obs))\n",
    "print(cellID_obs)"
   ]
  },
  {
   "cell_type": "code",
   "execution_count": 13,
   "metadata": {},
   "outputs": [
    {
     "data": {
      "text/plain": [
       "7357"
      ]
     },
     "execution_count": 13,
     "metadata": {},
     "output_type": "execute_result"
    }
   ],
   "source": [
    "filtered_barcode = np.intersect1d(cellID_obs['x'],adata.obs_names)\n",
    "len(filtered_barcode)"
   ]
  },
  {
   "cell_type": "code",
   "execution_count": 14,
   "metadata": {},
   "outputs": [
    {
     "name": "stdout",
     "output_type": "stream",
     "text": [
      "AnnData object with n_obs × n_vars = 7357 × 36601\n",
      "    obs: 'Clusters', '_X', '_Y', 'initial_size_spliced', 'initial_size_unspliced', 'initial_size', 'batch'\n",
      "    var: 'gene_ids', 'feature_types', 'Accession', 'Chromosome', 'End', 'Start', 'Strand'\n",
      "    layers: 'ambiguous', 'matrix', 'spliced', 'unspliced'\n"
     ]
    }
   ],
   "source": [
    "filtered_adata = adata[filtered_barcode].copy()\n",
    "print(filtered_adata)"
   ]
  },
  {
   "cell_type": "markdown",
   "metadata": {},
   "source": [
    "Add UMAP and annotation"
   ]
  },
  {
   "cell_type": "code",
   "execution_count": 18,
   "metadata": {},
   "outputs": [
    {
     "name": "stdout",
     "output_type": "stream",
     "text": [
      "                     CellID\n",
      "0     ncc1_AAACCCATCAGCAATC\n",
      "1     ncc1_AAACGAACACGGTGCT\n",
      "2     ncc1_AAACGAACATTGTCGA\n",
      "3     ncc1_AAACGCTCAAGAGGTC\n",
      "4     ncc1_AAACGCTGTGCCCGTA\n",
      "...                     ...\n",
      "7352  ncc4_TTTGGAGTCAAGTCGT\n",
      "7353  ncc4_TTTGGTTGTTTGCCGG\n",
      "7354  ncc4_TTTGGTTTCTCCTACG\n",
      "7355  ncc4_TTTGTTGCACACGTGC\n",
      "7356  ncc4_TTTGTTGGTTTCCAAG\n",
      "\n",
      "[7357 rows x 1 columns]\n"
     ]
    }
   ],
   "source": [
    "adata_index = pd.DataFrame(filtered_adata.obs.index)\n",
    "adata_index.columns = ['CellID']\n",
    "print(adata_index)"
   ]
  },
  {
   "cell_type": "code",
   "execution_count": 19,
   "metadata": {},
   "outputs": [
    {
     "name": "stdout",
     "output_type": "stream",
     "text": [
      "                     CellID    UMAP_1    UMAP_2\n",
      "0     ncc1_AAACCCATCAGCAATC  0.913846  0.550288\n",
      "1     ncc1_AAACGAACACGGTGCT -1.886460  2.125017\n",
      "2     ncc1_AAACGAACATTGTCGA  4.905686  0.409525\n",
      "3     ncc1_AAACGCTCAAGAGGTC  3.466465  0.183858\n",
      "4     ncc1_AAACGCTGTGCCCGTA -4.015033 -5.032781\n",
      "...                     ...       ...       ...\n",
      "7352  ncc4_TTTGGAGTCAAGTCGT  3.743522  0.089498\n",
      "7353  ncc4_TTTGGTTGTTTGCCGG -5.931196  0.739618\n",
      "7354  ncc4_TTTGGTTTCTCCTACG -3.608194 -5.238413\n",
      "7355  ncc4_TTTGTTGCACACGTGC -0.909402 -0.013683\n",
      "7356  ncc4_TTTGTTGGTTTCCAAG -4.805133 -1.220025\n",
      "\n",
      "[7357 rows x 3 columns]\n"
     ]
    }
   ],
   "source": [
    "umap_cord = umap_cord.rename(columns = {'Unnamed: 0':'CellID'})\n",
    "#umap_cord = umap_cord.rename(columns = {'Cell ID':'CellID'})\n",
    "umap_cord['CellID'] = umap_cord['CellID'].str.replace('-1', '')\n",
    "umap_ordered = adata_index.merge(umap_cord, on = \"CellID\")\n",
    "print(umap_cord)"
   ]
  },
  {
   "cell_type": "code",
   "execution_count": 21,
   "metadata": {},
   "outputs": [],
   "source": [
    "umap_ordered = umap_ordered.iloc[:,1:]\n",
    "filtered_adata.obsm['X_umap'] = umap_ordered.values"
   ]
  },
  {
   "cell_type": "code",
   "execution_count": 23,
   "metadata": {},
   "outputs": [
    {
     "name": "stdout",
     "output_type": "stream",
     "text": [
      "                     CellID  x\n",
      "0     ncc1_AAACCCATCAGCAATC  7\n",
      "1     ncc1_AAACGAACACGGTGCT  1\n",
      "2     ncc1_AAACGAACATTGTCGA  0\n",
      "3     ncc1_AAACGCTCAAGAGGTC  0\n",
      "4     ncc1_AAACGCTGTGCCCGTA  7\n",
      "...                     ... ..\n",
      "7352  ncc4_TTTGGAGTCAAGTCGT  0\n",
      "7353  ncc4_TTTGGTTGTTTGCCGG  5\n",
      "7354  ncc4_TTTGGTTTCTCCTACG  7\n",
      "7355  ncc4_TTTGTTGCACACGTGC  1\n",
      "7356  ncc4_TTTGTTGGTTTCCAAG  4\n",
      "\n",
      "[7357 rows x 2 columns]\n"
     ]
    }
   ],
   "source": [
    "cell_clusters = cell_clusters.rename(columns = {'Unnamed: 0':'CellID'})\n",
    "cell_clusters['CellID'] = cell_clusters['CellID'].str.replace('-1', '')\n",
    "cell_clusters = adata_index.merge(cell_clusters, on = \"CellID\")\n",
    "print(cell_clusters)"
   ]
  },
  {
   "cell_type": "code",
   "execution_count": 24,
   "metadata": {},
   "outputs": [
    {
     "name": "stdout",
     "output_type": "stream",
     "text": [
      "AnnData object with n_obs × n_vars = 7357 × 36601\n",
      "    obs: 'Clusters', '_X', '_Y', 'initial_size_spliced', 'initial_size_unspliced', 'initial_size', 'batch', 'seurat_clusters'\n",
      "    var: 'gene_ids', 'feature_types', 'Accession', 'Chromosome', 'End', 'Start', 'Strand'\n",
      "    obsm: 'X_umap'\n",
      "    layers: 'ambiguous', 'matrix', 'spliced', 'unspliced'\n"
     ]
    }
   ],
   "source": [
    "cell_clusters = cell_clusters.iloc[:,1:]\n",
    "filtered_adata.obs['seurat_clusters'] = cell_clusters.values\n",
    "print(filtered_adata)"
   ]
  },
  {
   "cell_type": "code",
   "execution_count": 26,
   "metadata": {},
   "outputs": [
    {
     "name": "stderr",
     "output_type": "stream",
     "text": [
      "... storing 'feature_types' as categorical\n"
     ]
    }
   ],
   "source": [
    "filtered_adata.write(results_file)"
   ]
  },
  {
   "cell_type": "code",
   "execution_count": null,
   "metadata": {},
   "outputs": [],
   "source": []
  }
 ],
 "metadata": {
  "interpreter": {
   "hash": "7344c7d0715a2f7d0deaa4af8fae64638b86a614dee3631f34dd23dde8c417b2"
  },
  "kernelspec": {
   "display_name": "Python 3.7.13 ('veloAE')",
   "language": "python",
   "name": "python3"
  },
  "language_info": {
   "codemirror_mode": {
    "name": "ipython",
    "version": 3
   },
   "file_extension": ".py",
   "mimetype": "text/x-python",
   "name": "python",
   "nbconvert_exporter": "python",
   "pygments_lexer": "ipython3",
   "version": "3.7.13"
  }
 },
 "nbformat": 4,
 "nbformat_minor": 2
}
