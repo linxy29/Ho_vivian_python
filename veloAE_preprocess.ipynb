{
 "cells": [
  {
   "cell_type": "code",
   "execution_count": 1,
   "metadata": {},
   "outputs": [],
   "source": [
    "import anndata\n",
    "import scvelo as scv\n",
    "import pandas as pd\n",
    "import matplotlib.pyplot as plt\n",
    "import numpy as np"
   ]
  },
  {
   "cell_type": "code",
   "execution_count": 18,
   "metadata": {},
   "outputs": [],
   "source": [
    "results_file = '/storage/holab/linxy/vivian/scanpy/ncc_seurate.h5ad'  # the file that will store the analysis results"
   ]
  },
  {
   "cell_type": "code",
   "execution_count": 2,
   "metadata": {},
   "outputs": [
    {
     "name": "stdout",
     "output_type": "stream",
     "text": [
      "                         x\n",
      "0  ncc1_AAACCCATCAGCAATC-1\n",
      "1  ncc1_AAACGAACACGGTGCT-1\n",
      "2  ncc1_AAACGAACATTGTCGA-1\n",
      "3  ncc1_AAACGCTCAAGAGGTC-1\n",
      "4  ncc1_AAACGCTGTGCCCGTA-1\n",
      "7357\n",
      "                   Unnamed: 0    UMAP_1    UMAP_2\n",
      "0     ncc1_AAACCCATCAGCAATC-1  0.913846  0.550288\n",
      "1     ncc1_AAACGAACACGGTGCT-1 -1.886460  2.125017\n",
      "2     ncc1_AAACGAACATTGTCGA-1  4.905686  0.409525\n",
      "3     ncc1_AAACGCTCAAGAGGTC-1  3.466465  0.183858\n",
      "4     ncc1_AAACGCTGTGCCCGTA-1 -4.015033 -5.032781\n",
      "...                       ...       ...       ...\n",
      "7352  ncc4_TTTGGAGTCAAGTCGT-1  3.743522  0.089498\n",
      "7353  ncc4_TTTGGTTGTTTGCCGG-1 -5.931196  0.739618\n",
      "7354  ncc4_TTTGGTTTCTCCTACG-1 -3.608194 -5.238413\n",
      "7355  ncc4_TTTGTTGCACACGTGC-1 -0.909402 -0.013683\n",
      "7356  ncc4_TTTGTTGGTTTCCAAG-1 -4.805133 -1.220025\n",
      "\n",
      "[7357 rows x 3 columns]\n"
     ]
    }
   ],
   "source": [
    "# get meta-data information\n",
    "path = \"/storage/holab/linxy/vivian/veloAE/\"\n",
    "cellID_obs = pd.read_csv(path + \"ncc_cellID_obs.csv\")\n",
    "print(cellID_obs.head())\n",
    "print(len(cellID_obs))\n",
    "umap_cord = pd.read_csv(path + \"ncc_cell_embeddings.csv\")\n",
    "print(umap_cord)\n",
    "cell_clusters = pd.read_csv(path + \"ncc_clusters.csv\")"
   ]
  },
  {
   "cell_type": "code",
   "execution_count": 4,
   "metadata": {},
   "outputs": [
    {
     "name": "stderr",
     "output_type": "stream",
     "text": [
      "Variable names are not unique. To make them unique, call `.var_names_make_unique`.\n"
     ]
    }
   ],
   "source": [
    "sampleL = [\"ncc1\", \"ncc2\", \"ncc3\", \"ncc4\"]\n",
    "ldata =  scv.read(\"/storage/holab/linxy/vivian/\" + sampleL[0] + \"_cellranger/velocyto/\" + sampleL[0] + \"_cellranger.loom\", cache=True)\n",
    "ldata.var_names_make_unique()\n",
    "#print(ldata.obs_names)\n",
    "#obs_name_rep = ldata.obs_names.str.replace('ncc','s')\n",
    "#ldata.obs_names = obs_name_rep\n",
    "#print(ldata.obs_names)"
   ]
  },
  {
   "cell_type": "code",
   "execution_count": 5,
   "metadata": {},
   "outputs": [
    {
     "name": "stderr",
     "output_type": "stream",
     "text": [
      "Variable names are not unique. To make them unique, call `.var_names_make_unique`.\n"
     ]
    },
    {
     "name": "stdout",
     "output_type": "stream",
     "text": [
      "AnnData object with n_obs × n_vars = 2473 × 36601\n",
      "    obs: 'Clusters', '_X', '_Y'\n",
      "    var: 'Accession', 'Chromosome', 'End', 'Start', 'Strand'\n",
      "    layers: 'ambiguous', 'matrix', 'spliced', 'unspliced'\n"
     ]
    },
    {
     "name": "stderr",
     "output_type": "stream",
     "text": [
      "Variable names are not unique. To make them unique, call `.var_names_make_unique`.\n"
     ]
    },
    {
     "name": "stdout",
     "output_type": "stream",
     "text": [
      "AnnData object with n_obs × n_vars = 2449 × 36601\n",
      "    obs: 'Clusters', '_X', '_Y'\n",
      "    var: 'Accession', 'Chromosome', 'End', 'Start', 'Strand'\n",
      "    layers: 'ambiguous', 'matrix', 'spliced', 'unspliced'\n"
     ]
    },
    {
     "name": "stderr",
     "output_type": "stream",
     "text": [
      "Variable names are not unique. To make them unique, call `.var_names_make_unique`.\n"
     ]
    },
    {
     "name": "stdout",
     "output_type": "stream",
     "text": [
      "AnnData object with n_obs × n_vars = 2464 × 36601\n",
      "    obs: 'Clusters', '_X', '_Y'\n",
      "    var: 'Accession', 'Chromosome', 'End', 'Start', 'Strand'\n",
      "    layers: 'ambiguous', 'matrix', 'spliced', 'unspliced'\n",
      "AnnData object with n_obs × n_vars = 9892 × 36601\n",
      "    obs: 'Clusters', '_X', '_Y', 'batch'\n",
      "    var: 'Accession', 'Chromosome', 'End', 'Start', 'Strand'\n",
      "    layers: 'ambiguous', 'matrix', 'spliced', 'unspliced'\n"
     ]
    }
   ],
   "source": [
    "for i in range(1,len(sampleL)):\n",
    "    tempdata =  scv.read(\"/storage/holab/linxy/vivian/\" + sampleL[i] + \"_cellranger/velocyto/\" + sampleL[i] + \"_cellranger.loom\", cache=True)\n",
    "    tempdata.var_names_make_unique()\n",
    "    #obs_name_rep = tempdata.obs_names.str.replace('ncc','s')\n",
    "    #tempdata.obs_names = obs_name_rep\n",
    "    print(tempdata)\n",
    "    #print(tempdata.obs_names.is_unique)\n",
    "    ldata = ldata.concatenate(tempdata, join='outer', index_unique=None)\n",
    "    #print(ldata.obs_names.is_unique)\n",
    "\n",
    "print(ldata)"
   ]
  },
  {
   "cell_type": "markdown",
   "metadata": {},
   "source": [
    "## barcodes"
   ]
  },
  {
   "cell_type": "code",
   "execution_count": 6,
   "metadata": {},
   "outputs": [
    {
     "name": "stdout",
     "output_type": "stream",
     "text": [
      "Index(['ncc1_cellranger:AACAAAGAGTGAGCCAx',\n",
      "       'ncc1_cellranger:AAGAACACATTGCCTCx',\n",
      "       'ncc1_cellranger:AACAACCAGGAGGTTCx',\n",
      "       'ncc1_cellranger:AAAGGTACATGGTACTx',\n",
      "       'ncc1_cellranger:AACGTCACAGAAGCTGx',\n",
      "       'ncc1_cellranger:AACGTCAAGTAAGCATx',\n",
      "       'ncc1_cellranger:AAAGGTACAATACAGAx',\n",
      "       'ncc1_cellranger:AACAACCCAAGGGTCAx',\n",
      "       'ncc1_cellranger:AACGGGAGTGAGTCAGx',\n",
      "       'ncc1_cellranger:AAGGAATCATAGATCCx',\n",
      "       ...\n",
      "       'ncc4_cellranger:TTTCGATTCCGTGACGx',\n",
      "       'ncc4_cellranger:TTTACGTTCACTTGGAx',\n",
      "       'ncc4_cellranger:TTTATGCTCTCCATATx',\n",
      "       'ncc4_cellranger:TTGTTCAGTGGCAACAx',\n",
      "       'ncc4_cellranger:TTTCAGTCACATGGTTx',\n",
      "       'ncc4_cellranger:TTGTTGTTCGATTGGTx',\n",
      "       'ncc4_cellranger:TTGTTGTTCGCTCATCx',\n",
      "       'ncc4_cellranger:TTGTGGAGTAACGTTCx',\n",
      "       'ncc4_cellranger:TTGTGTTCATTAAAGGx',\n",
      "       'ncc4_cellranger:TTGTGTTCAATCTCTTx'],\n",
      "      dtype='object', name='CellID', length=9892)\n",
      "True\n",
      "Index(['ncc1_AACAAAGAGTGAGCCA', 'ncc1_AAGAACACATTGCCTC',\n",
      "       'ncc1_AACAACCAGGAGGTTC', 'ncc1_AAAGGTACATGGTACT',\n",
      "       'ncc1_AACGTCACAGAAGCTG', 'ncc1_AACGTCAAGTAAGCAT',\n",
      "       'ncc1_AAAGGTACAATACAGA', 'ncc1_AACAACCCAAGGGTCA',\n",
      "       'ncc1_AACGGGAGTGAGTCAG', 'ncc1_AAGGAATCATAGATCC',\n",
      "       ...\n",
      "       'ncc4_TTTCGATTCCGTGACG', 'ncc4_TTTACGTTCACTTGGA',\n",
      "       'ncc4_TTTATGCTCTCCATAT', 'ncc4_TTGTTCAGTGGCAACA',\n",
      "       'ncc4_TTTCAGTCACATGGTT', 'ncc4_TTGTTGTTCGATTGGT',\n",
      "       'ncc4_TTGTTGTTCGCTCATC', 'ncc4_TTGTGGAGTAACGTTC',\n",
      "       'ncc4_TTGTGTTCATTAAAGG', 'ncc4_TTGTGTTCAATCTCTT'],\n",
      "      dtype='object', name='CellID', length=9892)\n"
     ]
    }
   ],
   "source": [
    "## change obs_names\n",
    "print(ldata.obs_names)\n",
    "obs_name_rep = ldata.obs_names.str.replace('cellranger:|x','')\n",
    "ldata.obs_names = obs_name_rep\n",
    "print(np.unique(ldata.obs_names).size == len(ldata.obs_names))\n",
    "print(ldata.obs_names)"
   ]
  },
  {
   "cell_type": "code",
   "execution_count": 10,
   "metadata": {},
   "outputs": [
    {
     "name": "stdout",
     "output_type": "stream",
     "text": [
      "True\n",
      "7357\n"
     ]
    }
   ],
   "source": [
    "## change cellID name in metadata\n",
    "cellID_obs['x'] = cellID_obs['x'].str.replace('-1', '')\n",
    "print(np.unique(cellID_obs['x']).size == len(cellID_obs['x']))  ## check whether have duplicate barcodes\n",
    "print(len(cellID_obs))"
   ]
  },
  {
   "cell_type": "code",
   "execution_count": 11,
   "metadata": {},
   "outputs": [
    {
     "data": {
      "text/plain": [
       "7357"
      ]
     },
     "execution_count": 11,
     "metadata": {},
     "output_type": "execute_result"
    }
   ],
   "source": [
    "filtered_barcode = np.intersect1d(cellID_obs['x'],ldata.obs_names)\n",
    "len(filtered_barcode)"
   ]
  },
  {
   "cell_type": "code",
   "execution_count": 12,
   "metadata": {},
   "outputs": [
    {
     "name": "stdout",
     "output_type": "stream",
     "text": [
      "AnnData object with n_obs × n_vars = 7357 × 36601\n",
      "    obs: 'Clusters', '_X', '_Y', 'batch'\n",
      "    var: 'Accession', 'Chromosome', 'End', 'Start', 'Strand'\n",
      "    layers: 'ambiguous', 'matrix', 'spliced', 'unspliced'\n"
     ]
    }
   ],
   "source": [
    "filtered_ldata = ldata[filtered_barcode].copy()\n",
    "print(filtered_ldata)"
   ]
  },
  {
   "cell_type": "markdown",
   "metadata": {},
   "source": [
    "Add UMAP and annotation"
   ]
  },
  {
   "cell_type": "code",
   "execution_count": 13,
   "metadata": {},
   "outputs": [
    {
     "name": "stdout",
     "output_type": "stream",
     "text": [
      "                     CellID\n",
      "0     ncc1_AAACCCATCAGCAATC\n",
      "1     ncc1_AAACGAACACGGTGCT\n",
      "2     ncc1_AAACGAACATTGTCGA\n",
      "3     ncc1_AAACGCTCAAGAGGTC\n",
      "4     ncc1_AAACGCTGTGCCCGTA\n",
      "...                     ...\n",
      "7352  ncc4_TTTGGAGTCAAGTCGT\n",
      "7353  ncc4_TTTGGTTGTTTGCCGG\n",
      "7354  ncc4_TTTGGTTTCTCCTACG\n",
      "7355  ncc4_TTTGTTGCACACGTGC\n",
      "7356  ncc4_TTTGTTGGTTTCCAAG\n",
      "\n",
      "[7357 rows x 1 columns]\n"
     ]
    }
   ],
   "source": [
    "ldata_index = pd.DataFrame(filtered_ldata.obs.index)\n",
    "print(ldata_index)"
   ]
  },
  {
   "cell_type": "code",
   "execution_count": 14,
   "metadata": {},
   "outputs": [
    {
     "name": "stdout",
     "output_type": "stream",
     "text": [
      "                     CellID    UMAP_1    UMAP_2\n",
      "0     ncc1_AAACCCATCAGCAATC  0.913846  0.550288\n",
      "1     ncc1_AAACGAACACGGTGCT -1.886460  2.125017\n",
      "2     ncc1_AAACGAACATTGTCGA  4.905686  0.409525\n",
      "3     ncc1_AAACGCTCAAGAGGTC  3.466465  0.183858\n",
      "4     ncc1_AAACGCTGTGCCCGTA -4.015033 -5.032781\n",
      "...                     ...       ...       ...\n",
      "7352  ncc4_TTTGGAGTCAAGTCGT  3.743522  0.089498\n",
      "7353  ncc4_TTTGGTTGTTTGCCGG -5.931196  0.739618\n",
      "7354  ncc4_TTTGGTTTCTCCTACG -3.608194 -5.238413\n",
      "7355  ncc4_TTTGTTGCACACGTGC -0.909402 -0.013683\n",
      "7356  ncc4_TTTGTTGGTTTCCAAG -4.805133 -1.220025\n",
      "\n",
      "[7357 rows x 3 columns]\n"
     ]
    }
   ],
   "source": [
    "umap_cord = umap_cord.rename(columns = {'Unnamed: 0':'CellID'})\n",
    "#umap_cord = umap_cord.rename(columns = {'Cell ID':'CellID'})\n",
    "umap_cord['CellID'] = umap_cord['CellID'].str.replace('-1', '')\n",
    "umap_ordered = ldata_index.merge(umap_cord, on = \"CellID\")\n",
    "print(umap_cord)"
   ]
  },
  {
   "cell_type": "code",
   "execution_count": 15,
   "metadata": {},
   "outputs": [],
   "source": [
    "umap_ordered = umap_ordered.iloc[:,1:]\n",
    "filtered_ldata.obsm['X_umap'] = umap_ordered.values"
   ]
  },
  {
   "cell_type": "code",
   "execution_count": 16,
   "metadata": {},
   "outputs": [
    {
     "name": "stdout",
     "output_type": "stream",
     "text": [
      "                     CellID  x\n",
      "0     ncc1_AAACCCATCAGCAATC  7\n",
      "1     ncc1_AAACGAACACGGTGCT  1\n",
      "2     ncc1_AAACGAACATTGTCGA  0\n",
      "3     ncc1_AAACGCTCAAGAGGTC  0\n",
      "4     ncc1_AAACGCTGTGCCCGTA  7\n",
      "...                     ... ..\n",
      "7352  ncc4_TTTGGAGTCAAGTCGT  0\n",
      "7353  ncc4_TTTGGTTGTTTGCCGG  5\n",
      "7354  ncc4_TTTGGTTTCTCCTACG  7\n",
      "7355  ncc4_TTTGTTGCACACGTGC  1\n",
      "7356  ncc4_TTTGTTGGTTTCCAAG  4\n",
      "\n",
      "[7357 rows x 2 columns]\n"
     ]
    }
   ],
   "source": [
    "cell_clusters = cell_clusters.rename(columns = {'Unnamed: 0':'CellID'})\n",
    "cell_clusters['CellID'] = cell_clusters['CellID'].str.replace('-1', '')\n",
    "cell_clusters = ldata_index.merge(cell_clusters, on = \"CellID\")\n",
    "print(cell_clusters)"
   ]
  },
  {
   "cell_type": "code",
   "execution_count": 17,
   "metadata": {},
   "outputs": [
    {
     "name": "stdout",
     "output_type": "stream",
     "text": [
      "AnnData object with n_obs × n_vars = 7357 × 36601\n",
      "    obs: 'Clusters', '_X', '_Y', 'batch', 'seurat_clusters'\n",
      "    var: 'Accession', 'Chromosome', 'End', 'Start', 'Strand'\n",
      "    obsm: 'X_umap'\n",
      "    layers: 'ambiguous', 'matrix', 'spliced', 'unspliced'\n"
     ]
    }
   ],
   "source": [
    "cell_clusters = cell_clusters.iloc[:,1:]\n",
    "filtered_ldata.obs['seurat_clusters'] = cell_clusters.values\n",
    "print(filtered_ldata)"
   ]
  },
  {
   "cell_type": "code",
   "execution_count": null,
   "metadata": {},
   "outputs": [],
   "source": [
    "filtered_ldata.write(results_file)"
   ]
  },
  {
   "cell_type": "code",
   "execution_count": null,
   "metadata": {},
   "outputs": [],
   "source": []
  }
 ],
 "metadata": {
  "kernelspec": {
   "display_name": "Python 3",
   "language": "python",
   "name": "python3"
  },
  "language_info": {
   "codemirror_mode": {
    "name": "ipython",
    "version": 3
   },
   "file_extension": ".py",
   "mimetype": "text/x-python",
   "name": "python",
   "nbconvert_exporter": "python",
   "pygments_lexer": "ipython3",
   "version": "3.8.8"
  }
 },
 "nbformat": 4,
 "nbformat_minor": 2
}
