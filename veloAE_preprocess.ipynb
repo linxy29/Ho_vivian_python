{
 "cells": [
  {
   "cell_type": "code",
   "execution_count": null,
   "metadata": {},
   "outputs": [
    {
     "ename": "",
     "evalue": "",
     "output_type": "error",
     "traceback": [
      "\u001b[1;31mJupyter cannot be started. Error attempting to locate Jupyter: Running cells with 'Python 3.6.8 64-bit' requires jupyter and notebook package.\n",
      "\u001b[1;31mRun the following command to install 'jupyter and notebook' into the Python environment. \n",
      "\u001b[1;31mCommand: 'python -m pip install jupyter notebook -U\n",
      "\u001b[1;31mor\n",
      "\u001b[1;31mconda install jupyter notebook -U'\n",
      "Click <a href='https://aka.ms/installJupyterForVSCode'>here</a> for more info."
     ]
    }
   ],
   "source": [
    "import anndata\n",
    "import scvelo as scv\n",
    "import pandas as pd\n",
    "import matplotlib.pyplot as plt\n",
    "import numpy as np\n",
    "import scanpy as sc"
   ]
  },
  {
   "cell_type": "code",
   "execution_count": 3,
   "metadata": {},
   "outputs": [],
   "source": [
    "results_file = '/storage/holab/linxy/vivian/scanpy/ncc_seurate.h5ad'  # the file that will store the analysis results"
   ]
  },
  {
   "cell_type": "code",
   "execution_count": 4,
   "metadata": {},
   "outputs": [
    {
     "name": "stdout",
     "output_type": "stream",
     "text": [
      "scanpy==1.9.1 anndata==0.8.0 umap==0.5.3 numpy==1.21.6 scipy==1.8.0 pandas==1.4.2 scikit-learn==1.0.2 statsmodels==0.13.2 python-igraph==0.9.10 pynndescent==0.5.6\n"
     ]
    }
   ],
   "source": [
    "sc.settings.verbosity = 3             # verbosity: errors (0), warnings (1), info (2), hints (3)\n",
    "sc.logging.print_header()\n",
    "sc.settings.set_figure_params(dpi=80, facecolor='white')"
   ]
  },
  {
   "cell_type": "code",
   "execution_count": 5,
   "metadata": {},
   "outputs": [
    {
     "name": "stdout",
     "output_type": "stream",
     "text": [
      "                     x\n",
      "0  s1_AAACCCATCAGCAATC\n",
      "1  s1_AAACGAACATTGTCGA\n",
      "2  s1_AAAGGATCATGGCGCT\n",
      "3  s1_AAAGGTAAGCGAATGC\n",
      "4  s1_AAAGGTACAACTCGAT\n",
      "10601\n",
      "                Unnamed: 0    UMAP_1    UMAP_2\n",
      "0      s1_AAACCCATCAGCAATC -0.249159  1.993144\n",
      "1      s1_AAACGAACATTGTCGA -4.781256 -1.208898\n",
      "2      s1_AAAGGATCATGGCGCT  5.002699  0.477262\n",
      "3      s1_AAAGGTAAGCGAATGC  1.732118  2.226997\n",
      "4      s1_AAAGGTACAACTCGAT -2.830450 -3.581742\n",
      "...                    ...       ...       ...\n",
      "10596  s4_TTTGGTTTCTCCTACG  0.079327  4.613376\n",
      "10597  s4_TTTGTTGAGCATGATA  5.325161  3.589683\n",
      "10598  s4_TTTGTTGCACGGCGTT -3.065098 -1.001408\n",
      "10599  s4_TTTGTTGGTTTCCAAG  5.786833  2.374338\n",
      "10600  s4_TTTGTTGTCATTGTTC -1.951135 -2.078952\n",
      "\n",
      "[10601 rows x 3 columns]\n"
     ]
    }
   ],
   "source": [
    "# get meta-data information\n",
    "path = \"/storage/holab/linxy/vivian/veloAE/\"\n",
    "cellID_obs = pd.read_csv(path + \"ncc_cellID.csv\")\n",
    "print(cellID_obs.head())\n",
    "print(len(cellID_obs))\n",
    "umap_cord = pd.read_csv(path + \"ncc_cell_embeddings.csv\")\n",
    "print(umap_cord)\n",
    "cell_clusters = pd.read_csv(path + \"ncc_clusters.csv\")"
   ]
  },
  {
   "cell_type": "code",
   "execution_count": 7,
   "metadata": {},
   "outputs": [
    {
     "name": "stdout",
     "output_type": "stream",
     "text": [
      "... reading from cache file cache/storage-holab-linxy-vivian-ncc1_cellranger-outs-filtered_feature_bc_matrix-matrix.h5ad\n",
      "... reading from cache file cache/storage-holab-linxy-vivian-ncc1_cellranger-velocyto-ncc1_cellranger.h5ad\n",
      "AnnData object with n_obs × n_vars = 2506 × 36601\n",
      "    obs: 'Clusters', '_X', '_Y', 'initial_size_spliced', 'initial_size_unspliced', 'initial_size'\n",
      "    var: 'gene_ids', 'feature_types', 'Accession', 'Chromosome', 'End', 'Start', 'Strand'\n",
      "    layers: 'ambiguous', 'matrix', 'spliced', 'unspliced'\n",
      "Index(['ncc1_AAACCCATCAGCAATC', 'ncc1_AAACGAACACGGTGCT',\n",
      "       'ncc1_AAACGAACATTGTCGA', 'ncc1_AAACGCTCAAGAGGTC',\n",
      "       'ncc1_AAACGCTGTGCCCGTA', 'ncc1_AAAGAACCAGAGGTAC',\n",
      "       'ncc1_AAAGAACTCTTGCAAG', 'ncc1_AAAGGATCACCATAAC',\n",
      "       'ncc1_AAAGGATCATGGCGCT', 'ncc1_AAAGGGCTCTTGGCTC',\n",
      "       ...\n",
      "       'ncc1_TTTGACTTCAAGTGTC', 'ncc1_TTTGATCAGAGCGACT',\n",
      "       'ncc1_TTTGGAGCATACAGAA', 'ncc1_TTTGGAGTCAAGTCGT',\n",
      "       'ncc1_TTTGGTTGTTTGCCGG', 'ncc1_TTTGGTTTCTCCTACG',\n",
      "       'ncc1_TTTGTTGAGCATGATA', 'ncc1_TTTGTTGAGGTTGTTC',\n",
      "       'ncc1_TTTGTTGCACACGTGC', 'ncc1_TTTGTTGGTTTCCAAG'],\n",
      "      dtype='object', length=2506)\n"
     ]
    }
   ],
   "source": [
    "sampleL = [\"ncc1\", \"ncc2\", \"ncc3\", \"ncc4\"]\n",
    "adata = sc.read_10x_mtx('/storage/holab/linxy/vivian/' + sampleL[0] + '_cellranger/outs/filtered_feature_bc_matrix/', var_names='gene_symbols', cache=True)                             \n",
    "ldata =  scv.read(\"/storage/holab/linxy/vivian/\" + sampleL[0] + \"_cellranger/velocyto/\" + sampleL[0] + \"_cellranger.loom\", cache=True)\n",
    "adata.var_names_make_unique()\n",
    "adata = scv.utils.merge(adata, ldata)\n",
    "adata.obs_names = sampleL[0] + '_' + adata.obs_names\n",
    "print(adata)\n",
    "print(adata.obs_names)"
   ]
  },
  {
   "cell_type": "code",
   "execution_count": 6,
   "metadata": {},
   "outputs": [
    {
     "name": "stdout",
     "output_type": "stream",
     "text": [
      "... reading from cache file cache/storage-holab-linxy-vivian-ncc2_cellranger-outs-filtered_feature_bc_matrix-matrix.h5ad\n",
      "... reading from cache file cache/storage-holab-linxy-vivian-ncc2_cellranger-velocyto-ncc2_cellranger.h5ad\n"
     ]
    },
    {
     "name": "stderr",
     "output_type": "stream",
     "text": [
      "Variable names are not unique. To make them unique, call `.var_names_make_unique`.\n"
     ]
    },
    {
     "name": "stdout",
     "output_type": "stream",
     "text": [
      "... reading from cache file cache/storage-holab-linxy-vivian-ncc3_cellranger-outs-filtered_feature_bc_matrix-matrix.h5ad\n",
      "... reading from cache file cache/storage-holab-linxy-vivian-ncc3_cellranger-velocyto-ncc3_cellranger.h5ad\n"
     ]
    },
    {
     "name": "stderr",
     "output_type": "stream",
     "text": [
      "Variable names are not unique. To make them unique, call `.var_names_make_unique`.\n"
     ]
    },
    {
     "name": "stdout",
     "output_type": "stream",
     "text": [
      "... reading from cache file cache/storage-holab-linxy-vivian-ncc4_cellranger-outs-filtered_feature_bc_matrix-matrix.h5ad\n",
      "... reading from cache file cache/storage-holab-linxy-vivian-ncc4_cellranger-velocyto-ncc4_cellranger.h5ad\n"
     ]
    },
    {
     "name": "stderr",
     "output_type": "stream",
     "text": [
      "Variable names are not unique. To make them unique, call `.var_names_make_unique`.\n"
     ]
    },
    {
     "name": "stdout",
     "output_type": "stream",
     "text": [
      "AnnData object with n_obs × n_vars = 2506 × 36601\n",
      "    obs: 'Clusters', '_X', '_Y', 'initial_size_spliced', 'initial_size_unspliced', 'initial_size'\n",
      "    var: 'Accession', 'Chromosome', 'End', 'Start', 'Strand'\n",
      "    layers: 'ambiguous', 'matrix', 'spliced', 'unspliced'\n"
     ]
    }
   ],
   "source": [
    "for i in range(1,len(sampleL)):\n",
    "    tempadata = sc.read_10x_mtx('/storage/holab/linxy/vivian/' + sampleL[i] + '_cellranger/outs/filtered_feature_bc_matrix/', var_names='gene_symbols', cache=True)                             \n",
    "    templdata =  scv.read(\"/storage/holab/linxy/vivian/\" + sampleL[i] + \"_cellranger/velocyto/\" + sampleL[i] + \"_cellranger.loom\", cache=True)\n",
    "    tempadata.var_names_make_unique()\n",
    "    tempadata = scv.utils.merge(tempadata, templdata)\n",
    "    tempadata.obs_names = sampleL[i] + '_' + tempadata.obs_names\n",
    "    adata = adata.concatenate(tempadata, join='outer', index_unique=None)\n",
    "\n",
    "print(ldata)"
   ]
  },
  {
   "cell_type": "markdown",
   "metadata": {},
   "source": [
    "## barcodes"
   ]
  },
  {
   "cell_type": "code",
   "execution_count": 11,
   "metadata": {},
   "outputs": [
    {
     "name": "stdout",
     "output_type": "stream",
     "text": [
      "Index(['s1_AAACCCATCAGCAATC', 's1_AAACGAACACGGTGCT', 's1_AAACGAACATTGTCGA',\n",
      "       's1_AAACGCTCAAGAGGTC', 's1_AAACGCTGTGCCCGTA', 's1_AAAGAACCAGAGGTAC',\n",
      "       's1_AAAGAACTCTTGCAAG', 's1_AAAGGATCACCATAAC', 's1_AAAGGATCATGGCGCT',\n",
      "       's1_AAAGGGCTCTTGGCTC',\n",
      "       ...\n",
      "       's1_TTTGACTTCAAGTGTC', 's1_TTTGATCAGAGCGACT', 's1_TTTGGAGCATACAGAA',\n",
      "       's1_TTTGGAGTCAAGTCGT', 's1_TTTGGTTGTTTGCCGG', 's1_TTTGGTTTCTCCTACG',\n",
      "       's1_TTTGTTGAGCATGATA', 's1_TTTGTTGAGGTTGTTC', 's1_TTTGTTGCACACGTGC',\n",
      "       's1_TTTGTTGGTTTCCAAG'],\n",
      "      dtype='object', length=2506)\n",
      "True\n"
     ]
    }
   ],
   "source": [
    "## change obs_names\n",
    "adata.obs_names = adata.obs_names.str.replace('ncc', 's')\n",
    "print(adata.obs_names)\n",
    "print(np.unique(adata.obs_names).size == len(adata.obs_names))"
   ]
  },
  {
   "cell_type": "code",
   "execution_count": 9,
   "metadata": {},
   "outputs": [
    {
     "name": "stdout",
     "output_type": "stream",
     "text": [
      "True\n",
      "10601\n",
      "                         x\n",
      "0      s1_AAACCCATCAGCAATC\n",
      "1      s1_AAACGAACATTGTCGA\n",
      "2      s1_AAAGGATCATGGCGCT\n",
      "3      s1_AAAGGTAAGCGAATGC\n",
      "4      s1_AAAGGTACAACTCGAT\n",
      "...                    ...\n",
      "10596  s4_TTTGGTTTCTCCTACG\n",
      "10597  s4_TTTGTTGAGCATGATA\n",
      "10598  s4_TTTGTTGCACGGCGTT\n",
      "10599  s4_TTTGTTGGTTTCCAAG\n",
      "10600  s4_TTTGTTGTCATTGTTC\n",
      "\n",
      "[10601 rows x 1 columns]\n"
     ]
    }
   ],
   "source": [
    "## change cellID name in metadata\n",
    "cellID_obs['x'] = cellID_obs['x'].str.replace('-1', '')\n",
    "print(np.unique(cellID_obs['x']).size == len(cellID_obs['x']))  ## check whether have duplicate barcodes\n",
    "print(len(cellID_obs))\n",
    "print(cellID_obs)"
   ]
  },
  {
   "cell_type": "code",
   "execution_count": 12,
   "metadata": {},
   "outputs": [
    {
     "data": {
      "text/plain": [
       "1330"
      ]
     },
     "execution_count": 12,
     "metadata": {},
     "output_type": "execute_result"
    }
   ],
   "source": [
    "filtered_barcode = np.intersect1d(cellID_obs['x'],adata.obs_names)\n",
    "len(filtered_barcode)"
   ]
  },
  {
   "cell_type": "code",
   "execution_count": 13,
   "metadata": {},
   "outputs": [
    {
     "name": "stdout",
     "output_type": "stream",
     "text": [
      "AnnData object with n_obs × n_vars = 1330 × 36601\n",
      "    obs: 'Clusters', '_X', '_Y', 'initial_size_spliced', 'initial_size_unspliced', 'initial_size'\n",
      "    var: 'gene_ids', 'feature_types', 'Accession', 'Chromosome', 'End', 'Start', 'Strand'\n",
      "    layers: 'ambiguous', 'matrix', 'spliced', 'unspliced'\n"
     ]
    }
   ],
   "source": [
    "filtered_adata = adata[filtered_barcode].copy()\n",
    "print(filtered_adata)"
   ]
  },
  {
   "cell_type": "markdown",
   "metadata": {},
   "source": [
    "Add UMAP and annotation"
   ]
  },
  {
   "cell_type": "code",
   "execution_count": 14,
   "metadata": {},
   "outputs": [
    {
     "name": "stdout",
     "output_type": "stream",
     "text": [
      "                   CellID\n",
      "0     s1_AAACCCATCAGCAATC\n",
      "1     s1_AAACGAACATTGTCGA\n",
      "2     s1_AAAGGATCATGGCGCT\n",
      "3     s1_AAAGGTATCACCTGGG\n",
      "4     s1_AAAGTCCAGAGATCGC\n",
      "...                   ...\n",
      "1325  s1_TTTGATCAGAGCGACT\n",
      "1326  s1_TTTGGTTGTTTGCCGG\n",
      "1327  s1_TTTGGTTTCTCCTACG\n",
      "1328  s1_TTTGTTGAGCATGATA\n",
      "1329  s1_TTTGTTGGTTTCCAAG\n",
      "\n",
      "[1330 rows x 1 columns]\n"
     ]
    }
   ],
   "source": [
    "adata_index = pd.DataFrame(filtered_adata.obs.index)\n",
    "adata_index.columns = ['CellID']\n",
    "print(adata_index)"
   ]
  },
  {
   "cell_type": "code",
   "execution_count": 15,
   "metadata": {},
   "outputs": [
    {
     "name": "stdout",
     "output_type": "stream",
     "text": [
      "                    CellID    UMAP_1    UMAP_2\n",
      "0      s1_AAACCCATCAGCAATC -0.249159  1.993144\n",
      "1      s1_AAACGAACATTGTCGA -4.781256 -1.208898\n",
      "2      s1_AAAGGATCATGGCGCT  5.002699  0.477262\n",
      "3      s1_AAAGGTAAGCGAATGC  1.732118  2.226997\n",
      "4      s1_AAAGGTACAACTCGAT -2.830450 -3.581742\n",
      "...                    ...       ...       ...\n",
      "10596  s4_TTTGGTTTCTCCTACG  0.079327  4.613376\n",
      "10597  s4_TTTGTTGAGCATGATA  5.325161  3.589683\n",
      "10598  s4_TTTGTTGCACGGCGTT -3.065098 -1.001408\n",
      "10599  s4_TTTGTTGGTTTCCAAG  5.786833  2.374338\n",
      "10600  s4_TTTGTTGTCATTGTTC -1.951135 -2.078952\n",
      "\n",
      "[10601 rows x 3 columns]\n"
     ]
    }
   ],
   "source": [
    "umap_cord = umap_cord.rename(columns = {'Unnamed: 0':'CellID'})\n",
    "#umap_cord = umap_cord.rename(columns = {'Cell ID':'CellID'})\n",
    "umap_cord['CellID'] = umap_cord['CellID'].str.replace('-1', '')\n",
    "umap_ordered = adata_index.merge(umap_cord, on = \"CellID\")\n",
    "print(umap_cord)"
   ]
  },
  {
   "cell_type": "code",
   "execution_count": 16,
   "metadata": {},
   "outputs": [],
   "source": [
    "umap_ordered = umap_ordered.iloc[:,1:]\n",
    "filtered_adata.obsm['X_umap'] = umap_ordered.values"
   ]
  },
  {
   "cell_type": "code",
   "execution_count": 17,
   "metadata": {},
   "outputs": [
    {
     "name": "stdout",
     "output_type": "stream",
     "text": [
      "                   CellID  x\n",
      "0     s1_AAACCCATCAGCAATC  5\n",
      "1     s1_AAACGAACATTGTCGA  0\n",
      "2     s1_AAAGGATCATGGCGCT  2\n",
      "3     s1_AAAGGTATCACCTGGG  0\n",
      "4     s1_AAAGTCCAGAGATCGC  0\n",
      "...                   ... ..\n",
      "1325  s1_TTTGATCAGAGCGACT  2\n",
      "1326  s1_TTTGGTTGTTTGCCGG  4\n",
      "1327  s1_TTTGGTTTCTCCTACG  5\n",
      "1328  s1_TTTGTTGAGCATGATA  2\n",
      "1329  s1_TTTGTTGGTTTCCAAG  2\n",
      "\n",
      "[1330 rows x 2 columns]\n"
     ]
    }
   ],
   "source": [
    "cell_clusters = cell_clusters.rename(columns = {'Unnamed: 0':'CellID'})\n",
    "cell_clusters['CellID'] = cell_clusters['CellID'].str.replace('-1', '')\n",
    "cell_clusters = adata_index.merge(cell_clusters, on = \"CellID\")\n",
    "print(cell_clusters)"
   ]
  },
  {
   "cell_type": "code",
   "execution_count": 18,
   "metadata": {},
   "outputs": [
    {
     "name": "stdout",
     "output_type": "stream",
     "text": [
      "AnnData object with n_obs × n_vars = 1330 × 36601\n",
      "    obs: 'Clusters', '_X', '_Y', 'initial_size_spliced', 'initial_size_unspliced', 'initial_size', 'seurat_clusters'\n",
      "    var: 'gene_ids', 'feature_types', 'Accession', 'Chromosome', 'End', 'Start', 'Strand'\n",
      "    obsm: 'X_umap'\n",
      "    layers: 'ambiguous', 'matrix', 'spliced', 'unspliced'\n"
     ]
    }
   ],
   "source": [
    "cell_clusters = cell_clusters.iloc[:,1:]\n",
    "filtered_adata.obs['seurat_clusters'] = cell_clusters.values\n",
    "print(filtered_adata)"
   ]
  },
  {
   "cell_type": "code",
   "execution_count": 19,
   "metadata": {},
   "outputs": [],
   "source": [
    "filtered_adata.write(results_file)"
   ]
  },
  {
   "cell_type": "code",
   "execution_count": null,
   "metadata": {},
   "outputs": [],
   "source": []
  }
 ],
 "metadata": {
  "kernelspec": {
   "display_name": "Python 3.7.13 ('veloAE')",
   "language": "python",
   "name": "python3"
  },
  "language_info": {
   "codemirror_mode": {
    "name": "ipython",
    "version": 3
   },
   "file_extension": ".py",
   "mimetype": "text/x-python",
   "name": "python",
   "nbconvert_exporter": "python",
   "pygments_lexer": "ipython3",
   "version": "3.7.13"
  },
  "vscode": {
   "interpreter": {
    "hash": "7344c7d0715a2f7d0deaa4af8fae64638b86a614dee3631f34dd23dde8c417b2"
   }
  }
 },
 "nbformat": 4,
 "nbformat_minor": 2
}
